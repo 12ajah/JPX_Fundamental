{
 "cells": [
  {
   "cell_type": "code",
   "execution_count": null,
   "metadata": {
    "id": "EUmJ3P4AVcxf"
   },
   "outputs": [],
   "source": [
    "import pandas as pd\n",
    "import numpy as np\n",
    "import matplotlib.pyplot as plt\n",
    "import seaborn as sns\n",
    "%matplotlib inline\n",
    "import torch\n",
    "import os, random\n",
    "\n",
    "pd.set_option('display.max_columns', 100)\n",
    "pd.set_option('display.max_rows', 100)\n",
    "\n",
    "# fix seed\n",
    "seed = 0\n",
    "np.random.seed(seed)\n",
    "random.seed(seed)\n",
    "torch.manual_seed(seed)\n",
    "torch.cuda.manual_seed(seed)"
   ]
  },
  {
   "cell_type": "code",
   "execution_count": null,
   "metadata": {
    "colab": {
     "base_uri": "https://localhost:8080/"
    },
    "id": "RtiT1R4HVsl0",
    "outputId": "41631eb8-bcc5-43a1-a864-4639f124b810"
   },
   "outputs": [
    {
     "name": "stdout",
     "output_type": "stream",
     "text": [
      "Mounted at /content/drive\n"
     ]
    }
   ],
   "source": [
    "from google.colab import drive\n",
    "drive.mount('/content/drive')"
   ]
  },
  {
   "cell_type": "code",
   "execution_count": null,
   "metadata": {
    "id": "cOkyTsZZVcxm"
   },
   "outputs": [],
   "source": [
    "# load data\n",
    "path = '/content/drive/MyDrive/Colab Notebooks/JPX_Fundamental/data/'\n",
    "stock_list = pd.read_csv(os.path.join(path, 'stock_list.csv'))\n",
    "stock_price = pd.read_csv(os.path.join(path, 'stock_price.csv'))\n",
    "stock_fin = pd.read_csv(os.path.join(path, 'stock_fin.csv'), index_col='base_date')\n",
    "stock_labels = pd.read_csv(os.path.join(path, 'stock_labels.csv'))\n",
    "\n",
    "# Datetimeに変換\n",
    "stock_price['EndOfDayQuote Date'] = pd.to_datetime(stock_price['EndOfDayQuote Date'])\n",
    "stock_fin.index = pd.to_datetime(stock_fin.index)"
   ]
  },
  {
   "cell_type": "code",
   "execution_count": null,
   "metadata": {
    "id": "OE0kczk-Vcxn"
   },
   "outputs": [],
   "source": [
    "# load\n",
    "df_all_code_tech = pd.read_csv(os.path.join(path, 'all_code_tech.csv'))\n",
    "df_all_code_tech.set_index('Unnamed: 0', drop=True, inplace=True) # こうしないとエラーが出る\n",
    "df_all_code_fund = pd.read_csv(os.path.join(path, 'all_code_fund.csv'), index_col=[0])"
   ]
  },
  {
   "cell_type": "code",
   "execution_count": null,
   "metadata": {
    "colab": {
     "base_uri": "https://localhost:8080/",
     "height": 326
    },
    "id": "nGU1ZmnWVcxp",
    "outputId": "539b09de-bf41-486b-f4f2-93bda5345bea"
   },
   "outputs": [
    {
     "data": {
      "text/html": [
       "<div>\n",
       "<style scoped>\n",
       "    .dataframe tbody tr th:only-of-type {\n",
       "        vertical-align: middle;\n",
       "    }\n",
       "\n",
       "    .dataframe tbody tr th {\n",
       "        vertical-align: top;\n",
       "    }\n",
       "\n",
       "    .dataframe thead th {\n",
       "        text-align: right;\n",
       "    }\n",
       "</style>\n",
       "<table border=\"1\" class=\"dataframe\">\n",
       "  <thead>\n",
       "    <tr style=\"text-align: right;\">\n",
       "      <th></th>\n",
       "      <th>base_date</th>\n",
       "      <th>Local Code</th>\n",
       "      <th>label_date_5</th>\n",
       "      <th>label_high_5</th>\n",
       "      <th>label_low_5</th>\n",
       "      <th>label_date_10</th>\n",
       "      <th>label_high_10</th>\n",
       "      <th>label_low_10</th>\n",
       "      <th>label_date_20</th>\n",
       "      <th>label_high_20</th>\n",
       "      <th>label_low_20</th>\n",
       "      <th>high_low_5</th>\n",
       "      <th>high_low_10</th>\n",
       "      <th>high_low_20</th>\n",
       "      <th>center_5</th>\n",
       "      <th>center_10</th>\n",
       "      <th>center_20</th>\n",
       "    </tr>\n",
       "  </thead>\n",
       "  <tbody>\n",
       "    <tr>\n",
       "      <th>0</th>\n",
       "      <td>2016-01-04</td>\n",
       "      <td>1301</td>\n",
       "      <td>2016-01-12</td>\n",
       "      <td>0.01091</td>\n",
       "      <td>-0.04000</td>\n",
       "      <td>2016-01-19</td>\n",
       "      <td>0.01091</td>\n",
       "      <td>-0.05455</td>\n",
       "      <td>2016-02-02</td>\n",
       "      <td>0.01091</td>\n",
       "      <td>-0.08727</td>\n",
       "      <td>0.05091</td>\n",
       "      <td>0.06546</td>\n",
       "      <td>0.09818</td>\n",
       "      <td>-0.014545</td>\n",
       "      <td>-0.021820</td>\n",
       "      <td>-0.03818</td>\n",
       "    </tr>\n",
       "    <tr>\n",
       "      <th>1</th>\n",
       "      <td>2016-01-05</td>\n",
       "      <td>1301</td>\n",
       "      <td>2016-01-13</td>\n",
       "      <td>0.00362</td>\n",
       "      <td>-0.04348</td>\n",
       "      <td>2016-01-20</td>\n",
       "      <td>0.00362</td>\n",
       "      <td>-0.07609</td>\n",
       "      <td>2016-02-03</td>\n",
       "      <td>0.00362</td>\n",
       "      <td>-0.09058</td>\n",
       "      <td>0.04710</td>\n",
       "      <td>0.07971</td>\n",
       "      <td>0.09420</td>\n",
       "      <td>-0.019930</td>\n",
       "      <td>-0.036235</td>\n",
       "      <td>-0.04348</td>\n",
       "    </tr>\n",
       "    <tr>\n",
       "      <th>2</th>\n",
       "      <td>2016-01-06</td>\n",
       "      <td>1301</td>\n",
       "      <td>2016-01-14</td>\n",
       "      <td>0.00000</td>\n",
       "      <td>-0.05072</td>\n",
       "      <td>2016-01-21</td>\n",
       "      <td>0.00000</td>\n",
       "      <td>-0.08696</td>\n",
       "      <td>2016-02-04</td>\n",
       "      <td>0.00362</td>\n",
       "      <td>-0.09058</td>\n",
       "      <td>0.05072</td>\n",
       "      <td>0.08696</td>\n",
       "      <td>0.09420</td>\n",
       "      <td>-0.025360</td>\n",
       "      <td>-0.043480</td>\n",
       "      <td>-0.04348</td>\n",
       "    </tr>\n",
       "    <tr>\n",
       "      <th>3</th>\n",
       "      <td>2016-01-07</td>\n",
       "      <td>1301</td>\n",
       "      <td>2016-01-15</td>\n",
       "      <td>0.01107</td>\n",
       "      <td>-0.03321</td>\n",
       "      <td>2016-01-22</td>\n",
       "      <td>0.01107</td>\n",
       "      <td>-0.07380</td>\n",
       "      <td>2016-02-05</td>\n",
       "      <td>0.02214</td>\n",
       "      <td>-0.07380</td>\n",
       "      <td>0.04428</td>\n",
       "      <td>0.08487</td>\n",
       "      <td>0.09594</td>\n",
       "      <td>-0.011070</td>\n",
       "      <td>-0.031365</td>\n",
       "      <td>-0.02583</td>\n",
       "    </tr>\n",
       "    <tr>\n",
       "      <th>4</th>\n",
       "      <td>2016-01-08</td>\n",
       "      <td>1301</td>\n",
       "      <td>2016-01-18</td>\n",
       "      <td>0.01111</td>\n",
       "      <td>-0.03333</td>\n",
       "      <td>2016-01-25</td>\n",
       "      <td>0.01111</td>\n",
       "      <td>-0.07037</td>\n",
       "      <td>2016-02-08</td>\n",
       "      <td>0.02593</td>\n",
       "      <td>-0.07037</td>\n",
       "      <td>0.04444</td>\n",
       "      <td>0.08148</td>\n",
       "      <td>0.09630</td>\n",
       "      <td>-0.011110</td>\n",
       "      <td>-0.029630</td>\n",
       "      <td>-0.02222</td>\n",
       "    </tr>\n",
       "  </tbody>\n",
       "</table>\n",
       "</div>"
      ],
      "text/plain": [
       "    base_date  Local Code label_date_5  label_high_5  label_low_5  \\\n",
       "0  2016-01-04        1301   2016-01-12       0.01091     -0.04000   \n",
       "1  2016-01-05        1301   2016-01-13       0.00362     -0.04348   \n",
       "2  2016-01-06        1301   2016-01-14       0.00000     -0.05072   \n",
       "3  2016-01-07        1301   2016-01-15       0.01107     -0.03321   \n",
       "4  2016-01-08        1301   2016-01-18       0.01111     -0.03333   \n",
       "\n",
       "  label_date_10  label_high_10  label_low_10 label_date_20  label_high_20  \\\n",
       "0    2016-01-19        0.01091      -0.05455    2016-02-02        0.01091   \n",
       "1    2016-01-20        0.00362      -0.07609    2016-02-03        0.00362   \n",
       "2    2016-01-21        0.00000      -0.08696    2016-02-04        0.00362   \n",
       "3    2016-01-22        0.01107      -0.07380    2016-02-05        0.02214   \n",
       "4    2016-01-25        0.01111      -0.07037    2016-02-08        0.02593   \n",
       "\n",
       "   label_low_20  high_low_5  high_low_10  high_low_20  center_5  center_10  \\\n",
       "0      -0.08727     0.05091      0.06546      0.09818 -0.014545  -0.021820   \n",
       "1      -0.09058     0.04710      0.07971      0.09420 -0.019930  -0.036235   \n",
       "2      -0.09058     0.05072      0.08696      0.09420 -0.025360  -0.043480   \n",
       "3      -0.07380     0.04428      0.08487      0.09594 -0.011070  -0.031365   \n",
       "4      -0.07037     0.04444      0.08148      0.09630 -0.011110  -0.029630   \n",
       "\n",
       "   center_20  \n",
       "0   -0.03818  \n",
       "1   -0.04348  \n",
       "2   -0.04348  \n",
       "3   -0.02583  \n",
       "4   -0.02222  "
      ]
     },
     "execution_count": 5,
     "metadata": {
      "tags": []
     },
     "output_type": "execute_result"
    }
   ],
   "source": [
    "# 目的変数\n",
    "# high-lowの差分\n",
    "stock_labels['high_low_5'] = stock_labels['label_high_5'] - stock_labels['label_low_5']\n",
    "stock_labels['high_low_10'] = stock_labels['label_high_10'] - stock_labels['label_low_10']\n",
    "stock_labels['high_low_20'] = stock_labels['label_high_20'] - stock_labels['label_low_20']\n",
    "\n",
    "# high-lowの中間\n",
    "stock_labels['center_5'] = (stock_labels['label_high_5'] + stock_labels['label_low_5']) / 2\n",
    "stock_labels['center_10'] = (stock_labels['label_high_10'] + stock_labels['label_low_10']) / 2\n",
    "stock_labels['center_20'] = (stock_labels['label_high_20'] + stock_labels['label_low_20']) / 2\n",
    "\n",
    "stock_labels.head()"
   ]
  },
  {
   "cell_type": "markdown",
   "metadata": {
    "id": "jWwfbwyhVcxr"
   },
   "source": [
    "# Dataset Class"
   ]
  },
  {
   "cell_type": "code",
   "execution_count": null,
   "metadata": {
    "id": "S6aUK5UPVcxr"
   },
   "outputs": [],
   "source": [
    "from torch.utils.data import Dataset\n",
    "from torch import nn\n",
    "\n",
    "class JPX_Dataset(Dataset):\n",
    "    \n",
    "    def __init__(self, dfs, window_size):\n",
    "        self.technical_index = dfs['technical_index']\n",
    "        self.fundamental_index = dfs['fundamental_index']\n",
    "        self.stock_label = dfs['stock_label']\n",
    "        self.window_size = window_size\n",
    "        \n",
    "        # fundamental_indexの日付から直近windows_size日遡れないデータは削除する\n",
    "        self.arrange_fund_table()\n",
    "    \n",
    "    def arrange_fund_table(self):\n",
    "        '直近windows_size日分、遡れないデータは削除する'\n",
    "        del_index = []\n",
    "        \n",
    "        # 削除対象インデックスを特定\n",
    "        for i, code in enumerate(sorted(set(self.fundamental_index['Local Code']))):\n",
    "            # 1銘柄に関するデータ\n",
    "            df_one_code_tech = self.technical_index.loc[self.technical_index['Local Code'] == code].copy()\n",
    "            df_one_code_fund = self.fundamental_index.loc[self.fundamental_index['Local Code'] == code].copy()\n",
    "\n",
    "            # 時系列データの最初の日付を取得\n",
    "            first_date = df_one_code_tech['EndOfDayQuote Date'].values[0]\n",
    "\n",
    "            check = True\n",
    "            for j in df_one_code_fund.index:\n",
    "                if not check:\n",
    "                    break\n",
    "\n",
    "                if df_one_code_fund['base_date'][j] < first_date:\n",
    "                    del_index.append(j)\n",
    "                    continue\n",
    "                else:\n",
    "                    # ファンダメンタルデータと時系列データの日付同じインデックス番号を取得\n",
    "                    same_date_index = df_one_code_tech[df_one_code_tech['EndOfDayQuote Date'] == df_one_code_fund['base_date'][j]].index[0]\n",
    "                    # 判定\n",
    "                    if df_one_code_tech.index[0] > same_date_index - self.window_size:\n",
    "                        del_index.append(j)\n",
    "                    else:\n",
    "                        check = False\n",
    "            \n",
    "        self.fundamental_index = self.fundamental_index.drop(del_index, axis=0).copy()\n",
    "        self.fundamental_index = self.fundamental_index.reset_index(drop=True)\n",
    "        \n",
    "    def get_past_data(self, code, base_date, n):\n",
    "        '''銘柄(code)の基準日からn日前～基準日のデータを取り出す'''\n",
    "        # 1銘柄に関する価格情報を取り出す\n",
    "        df_one_stock = self.technical_index[self.technical_index['Local Code'] == code].copy()\n",
    "        \n",
    "        # 過去データを取り出す\n",
    "        extract_cols = ['EndOfDayQuote Date', 'EndOfDayQuote Volume', 'log_R', 'return_5', 'return_25', 'return_75', \n",
    "                        'HV_5', 'HV_10', 'HV_25', \"HV_50\", 'HV_75', 'HV_100',\n",
    "                        'MA20_HV5', 'MA20_HV10', 'MA20_HV25', 'MA20_HV50', 'MA20_HV75', 'MA20_HV100', \n",
    "                        'MADR5', 'MADR25', 'MADR75', 'MXDR5', 'MXDR10', 'MXDR20', 'MNDR5', 'MNDR10', 'MNDR20', 'RNDR', \n",
    "                        'RSI', 'H-L_C', 'MA25_H-L_C']\n",
    "        \n",
    "        base_date_index = df_one_stock[df_one_stock['EndOfDayQuote Date'] == base_date].index[0]\n",
    "        \n",
    "        return df_one_stock.loc[base_date_index-n+1:base_date_index][extract_cols].iloc[:, 1:].values\n",
    "    \n",
    "    def __len__(self):\n",
    "        return len(self.fundamental_index)\n",
    "     \n",
    "    def __getitem__(self, i):\n",
    "        # インデックスiに対応する銘柄コード、日付を取り出す\n",
    "        code_i = self.fundamental_index['Local Code'][i]\n",
    "        date_i = self.fundamental_index['base_date'][i]\n",
    "        #print(code_i, date_i)\n",
    "        \n",
    "        # 過去の時系列データ(windowsize_分)を取り出す\n",
    "        data_ts = self.get_past_data(code_i, date_i, self.window_size)\n",
    "        data_cs = self.fundamental_index.iloc[i, 2:].values.astype(np.float64)\n",
    "        \n",
    "        # ラベルデータを取り出す\n",
    "        stock_label_target = self.stock_label[(self.stock_label['base_date']== date_i) & (self.stock_label['Local Code']==code_i)]\n",
    "        label = stock_label_target[['label_high_20', 'label_low_20', 'high_low_20', 'center_20']].values\n",
    "        \n",
    "        # numpy -> Torch,Tensor\n",
    "        data_ts = torch.from_numpy(data_ts).float()\n",
    "        data_cs = torch.from_numpy(data_cs).float()\n",
    "        label = torch.from_numpy(label).float()\n",
    "        \n",
    "        return data_ts, data_cs, label"
   ]
  },
  {
   "cell_type": "code",
   "execution_count": null,
   "metadata": {
    "id": "fyF2o4h_Vcxs"
   },
   "outputs": [],
   "source": [
    "# 前処理\n",
    "df_all_code_tech['EndOfDayQuote Date'] = pd.to_datetime(df_all_code_tech['EndOfDayQuote Date'])\n",
    "df_all_code_fund['base_date'] = pd.to_datetime(df_all_code_fund['base_date'])\n",
    "stock_labels['base_date'] = pd.to_datetime(stock_labels['base_date'])\n",
    "\n",
    "delete_cols = df_all_code_fund.iloc[:, 2:43].columns\n",
    "df_all_code_fund.fillna(0, inplace=True)\n",
    "df_all_code_fund.reset_index(drop=True, inplace=True)\n",
    "\n",
    "\n",
    "# 辞書にまとめる\n",
    "dfs = {\n",
    "    'technical_index':df_all_code_tech,\n",
    "    'fundamental_index':df_all_code_fund.drop(delete_cols, axis=1),\n",
    "    'stock_label':stock_labels,\n",
    "}\n",
    "\n",
    "window_size = 5\n",
    "ds = JPX_Dataset(dfs, window_size)"
   ]
  },
  {
   "cell_type": "code",
   "execution_count": null,
   "metadata": {
    "colab": {
     "base_uri": "https://localhost:8080/"
    },
    "id": "ztM4z6yeVcxt",
    "outputId": "16580a01-9872-4f3b-8cf8-636bc57186f8",
    "scrolled": true
   },
   "outputs": [
    {
     "data": {
      "text/plain": [
       "tensor([[ 4.7543e+06,  4.0694e-02,  1.0526e-01,  0.0000e+00,  0.0000e+00,\n",
       "          1.1180e-02,  4.4489e-02,  0.0000e+00,  0.0000e+00,  0.0000e+00,\n",
       "          0.0000e+00,  0.0000e+00,  0.0000e+00,  0.0000e+00,  0.0000e+00,\n",
       "          0.0000e+00,  0.0000e+00,  7.0724e-02,  0.0000e+00,  0.0000e+00,\n",
       "          0.0000e+00,  0.0000e+00, -7.4753e-02,  8.3189e-02,  8.5069e-02,\n",
       "          8.5069e-02, -7.0000e-02,  5.6311e-01,  4.7619e-02,  0.0000e+00],\n",
       "        [ 4.9409e+06, -4.6118e-03,  1.1149e-01,  0.0000e+00,  0.0000e+00,\n",
       "          2.8243e-02,  4.7180e-02,  0.0000e+00,  0.0000e+00,  0.0000e+00,\n",
       "          0.0000e+00,  0.0000e+00,  0.0000e+00,  0.0000e+00,  0.0000e+00,\n",
       "          0.0000e+00,  0.0000e+00,  4.3478e-02,  0.0000e+00,  0.0000e+00,\n",
       "          0.0000e+00,  0.0000e+00,  0.0000e+00,  1.1438e-01,  1.1632e-01,\n",
       "          1.1632e-01,  8.0000e-02,  5.0794e-01,  4.1667e-02,  0.0000e+00],\n",
       "        [ 4.1135e+06, -3.1301e-02,  7.5342e-02,  0.0000e+00,  0.0000e+00,\n",
       "          2.9787e-02,  4.7774e-02,  0.0000e+00,  0.0000e+00,  0.0000e+00,\n",
       "          0.0000e+00,  0.0000e+00,  0.0000e+00,  0.0000e+00,  0.0000e+00,\n",
       "          0.0000e+00,  0.0000e+00, -2.8581e-03,  0.0000e+00,  0.0000e+00,\n",
       "         -4.9254e-02, -4.9254e-02, -4.9254e-02,  6.2284e-02,  6.5972e-02,\n",
       "          6.5972e-02,  4.6667e-02,  5.3333e-01,  3.6624e-02,  0.0000e+00],\n",
       "        [ 3.3783e+06, -5.2214e-02, -1.6750e-03,  0.0000e+00,  0.0000e+00,\n",
       "          2.5945e-02,  4.5369e-02,  0.0000e+00,  0.0000e+00,  0.0000e+00,\n",
       "          0.0000e+00,  0.0000e+00,  0.0000e+00,  0.0000e+00,  0.0000e+00,\n",
       "          0.0000e+00,  0.0000e+00, -5.3367e-02,  0.0000e+00,  0.0000e+00,\n",
       "         -6.7164e-02, -6.7164e-02, -6.7164e-02,  0.0000e+00,  2.5997e-02,\n",
       "          2.7778e-02, -6.6667e-03,  4.6154e-01,  5.5369e-02,  0.0000e+00],\n",
       "        [ 6.4730e+06, -8.4105e-03, -5.4400e-02,  0.0000e+00,  0.0000e+00,\n",
       "          3.3763e-02,  3.5279e-02,  0.0000e+00,  0.0000e+00,  0.0000e+00,\n",
       "          0.0000e+00,  0.0000e+00,  0.0000e+00,  0.0000e+00,  0.0000e+00,\n",
       "          0.0000e+00,  0.0000e+00, -5.1060e-02,  0.0000e+00,  0.0000e+00,\n",
       "         -6.8657e-02, -6.8657e-02, -6.8657e-02,  0.0000e+00,  5.1993e-03,\n",
       "          6.9444e-03, -1.5000e-02,  4.5498e-01,  7.4450e-02,  0.0000e+00]])"
      ]
     },
     "execution_count": 8,
     "metadata": {
      "tags": []
     },
     "output_type": "execute_result"
    }
   ],
   "source": [
    "ds[20][0]"
   ]
  },
  {
   "cell_type": "code",
   "execution_count": null,
   "metadata": {
    "colab": {
     "base_uri": "https://localhost:8080/",
     "height": 287
    },
    "id": "Ah7AIaqWVcxu",
    "outputId": "9cb43257-f9ff-43c8-e258-60d8d7b42b1a"
   },
   "outputs": [
    {
     "data": {
      "text/html": [
       "<div>\n",
       "<style scoped>\n",
       "    .dataframe tbody tr th:only-of-type {\n",
       "        vertical-align: middle;\n",
       "    }\n",
       "\n",
       "    .dataframe tbody tr th {\n",
       "        vertical-align: top;\n",
       "    }\n",
       "\n",
       "    .dataframe thead th {\n",
       "        text-align: right;\n",
       "    }\n",
       "</style>\n",
       "<table border=\"1\" class=\"dataframe\">\n",
       "  <thead>\n",
       "    <tr style=\"text-align: right;\">\n",
       "      <th></th>\n",
       "      <th>Local Code</th>\n",
       "      <th>EndOfDayQuote Date</th>\n",
       "      <th>EndOfDayQuote Open</th>\n",
       "      <th>EndOfDayQuote High</th>\n",
       "      <th>EndOfDayQuote Low</th>\n",
       "      <th>EndOfDayQuote Close</th>\n",
       "      <th>EndOfDayQuote ExchangeOfficialClose</th>\n",
       "      <th>EndOfDayQuote Volume</th>\n",
       "      <th>EndOfDayQuote CumulativeAdjustmentFactor</th>\n",
       "      <th>EndOfDayQuote PreviousClose</th>\n",
       "      <th>EndOfDayQuote PreviousCloseDate</th>\n",
       "      <th>EndOfDayQuote PreviousExchangeOfficialClose</th>\n",
       "      <th>EndOfDayQuote PreviousExchangeOfficialCloseDate</th>\n",
       "      <th>EndOfDayQuote ChangeFromPreviousClose</th>\n",
       "      <th>EndOfDayQuote PercentChangeFromPreviousClose</th>\n",
       "      <th>EndOfDayQuote VWAP</th>\n",
       "      <th>log_R</th>\n",
       "      <th>return_5</th>\n",
       "      <th>return_25</th>\n",
       "      <th>return_75</th>\n",
       "      <th>HV_5</th>\n",
       "      <th>HV_10</th>\n",
       "      <th>HV_25</th>\n",
       "      <th>HV_50</th>\n",
       "      <th>HV_75</th>\n",
       "      <th>HV_100</th>\n",
       "      <th>MA20_HV5</th>\n",
       "      <th>MA20_HV10</th>\n",
       "      <th>MA20_HV25</th>\n",
       "      <th>MA20_HV50</th>\n",
       "      <th>MA20_HV75</th>\n",
       "      <th>MA20_HV100</th>\n",
       "      <th>MADR5</th>\n",
       "      <th>MADR25</th>\n",
       "      <th>MADR75</th>\n",
       "      <th>MXDR5</th>\n",
       "      <th>MXDR10</th>\n",
       "      <th>MXDR20</th>\n",
       "      <th>MNDR5</th>\n",
       "      <th>MNDR10</th>\n",
       "      <th>MNDR20</th>\n",
       "      <th>RNDR</th>\n",
       "      <th>RSI</th>\n",
       "      <th>H-L_C</th>\n",
       "      <th>MA5_H-L_C</th>\n",
       "      <th>MA10_H-L_C</th>\n",
       "      <th>MA25_H-L_C</th>\n",
       "      <th>MA50_H-L_C</th>\n",
       "      <th>MA75_H-L_C</th>\n",
       "      <th>MA100_H-L_C</th>\n",
       "    </tr>\n",
       "    <tr>\n",
       "      <th>Unnamed: 0</th>\n",
       "      <th></th>\n",
       "      <th></th>\n",
       "      <th></th>\n",
       "      <th></th>\n",
       "      <th></th>\n",
       "      <th></th>\n",
       "      <th></th>\n",
       "      <th></th>\n",
       "      <th></th>\n",
       "      <th></th>\n",
       "      <th></th>\n",
       "      <th></th>\n",
       "      <th></th>\n",
       "      <th></th>\n",
       "      <th></th>\n",
       "      <th></th>\n",
       "      <th></th>\n",
       "      <th></th>\n",
       "      <th></th>\n",
       "      <th></th>\n",
       "      <th></th>\n",
       "      <th></th>\n",
       "      <th></th>\n",
       "      <th></th>\n",
       "      <th></th>\n",
       "      <th></th>\n",
       "      <th></th>\n",
       "      <th></th>\n",
       "      <th></th>\n",
       "      <th></th>\n",
       "      <th></th>\n",
       "      <th></th>\n",
       "      <th></th>\n",
       "      <th></th>\n",
       "      <th></th>\n",
       "      <th></th>\n",
       "      <th></th>\n",
       "      <th></th>\n",
       "      <th></th>\n",
       "      <th></th>\n",
       "      <th></th>\n",
       "      <th></th>\n",
       "      <th></th>\n",
       "      <th></th>\n",
       "      <th></th>\n",
       "      <th></th>\n",
       "      <th></th>\n",
       "      <th></th>\n",
       "      <th></th>\n",
       "      <th></th>\n",
       "    </tr>\n",
       "  </thead>\n",
       "  <tbody>\n",
       "    <tr>\n",
       "      <th>1240</th>\n",
       "      <td>1332</td>\n",
       "      <td>2016-02-01</td>\n",
       "      <td>630.0</td>\n",
       "      <td>656.0</td>\n",
       "      <td>625.0</td>\n",
       "      <td>651.0</td>\n",
       "      <td>651.0</td>\n",
       "      <td>4754300.0</td>\n",
       "      <td>1.0</td>\n",
       "      <td>625.0</td>\n",
       "      <td>2016/01/29</td>\n",
       "      <td>625.0</td>\n",
       "      <td>2016/01/29</td>\n",
       "      <td>26.0</td>\n",
       "      <td>4.160</td>\n",
       "      <td>644.696</td>\n",
       "      <td>0.040694</td>\n",
       "      <td>0.105263</td>\n",
       "      <td>0.0</td>\n",
       "      <td>0.0</td>\n",
       "      <td>0.011180</td>\n",
       "      <td>0.044489</td>\n",
       "      <td>0.0</td>\n",
       "      <td>0.0</td>\n",
       "      <td>0.0</td>\n",
       "      <td>0.0</td>\n",
       "      <td>0.0</td>\n",
       "      <td>0.0</td>\n",
       "      <td>0.0</td>\n",
       "      <td>0.0</td>\n",
       "      <td>0.0</td>\n",
       "      <td>0.0</td>\n",
       "      <td>0.070724</td>\n",
       "      <td>0.0</td>\n",
       "      <td>0.0</td>\n",
       "      <td>0.000000</td>\n",
       "      <td>0.000000</td>\n",
       "      <td>-0.074753</td>\n",
       "      <td>0.083189</td>\n",
       "      <td>0.085069</td>\n",
       "      <td>0.085069</td>\n",
       "      <td>-0.070000</td>\n",
       "      <td>0.563107</td>\n",
       "      <td>0.047619</td>\n",
       "      <td>0.040782</td>\n",
       "      <td>0.044310</td>\n",
       "      <td>0.0</td>\n",
       "      <td>0.0</td>\n",
       "      <td>0.0</td>\n",
       "      <td>0.0</td>\n",
       "    </tr>\n",
       "    <tr>\n",
       "      <th>1241</th>\n",
       "      <td>1332</td>\n",
       "      <td>2016-02-02</td>\n",
       "      <td>646.0</td>\n",
       "      <td>670.0</td>\n",
       "      <td>643.0</td>\n",
       "      <td>648.0</td>\n",
       "      <td>648.0</td>\n",
       "      <td>4940900.0</td>\n",
       "      <td>1.0</td>\n",
       "      <td>651.0</td>\n",
       "      <td>2016/02/01</td>\n",
       "      <td>651.0</td>\n",
       "      <td>2016/02/01</td>\n",
       "      <td>-3.0</td>\n",
       "      <td>-0.461</td>\n",
       "      <td>657.737</td>\n",
       "      <td>-0.004612</td>\n",
       "      <td>0.111492</td>\n",
       "      <td>0.0</td>\n",
       "      <td>0.0</td>\n",
       "      <td>0.028243</td>\n",
       "      <td>0.047180</td>\n",
       "      <td>0.0</td>\n",
       "      <td>0.0</td>\n",
       "      <td>0.0</td>\n",
       "      <td>0.0</td>\n",
       "      <td>0.0</td>\n",
       "      <td>0.0</td>\n",
       "      <td>0.0</td>\n",
       "      <td>0.0</td>\n",
       "      <td>0.0</td>\n",
       "      <td>0.0</td>\n",
       "      <td>0.043478</td>\n",
       "      <td>0.0</td>\n",
       "      <td>0.0</td>\n",
       "      <td>0.000000</td>\n",
       "      <td>0.000000</td>\n",
       "      <td>0.000000</td>\n",
       "      <td>0.114385</td>\n",
       "      <td>0.116319</td>\n",
       "      <td>0.116319</td>\n",
       "      <td>0.080000</td>\n",
       "      <td>0.507937</td>\n",
       "      <td>0.041667</td>\n",
       "      <td>0.043627</td>\n",
       "      <td>0.045997</td>\n",
       "      <td>0.0</td>\n",
       "      <td>0.0</td>\n",
       "      <td>0.0</td>\n",
       "      <td>0.0</td>\n",
       "    </tr>\n",
       "    <tr>\n",
       "      <th>1242</th>\n",
       "      <td>1332</td>\n",
       "      <td>2016-02-03</td>\n",
       "      <td>636.0</td>\n",
       "      <td>637.0</td>\n",
       "      <td>614.0</td>\n",
       "      <td>628.0</td>\n",
       "      <td>628.0</td>\n",
       "      <td>4113500.0</td>\n",
       "      <td>1.0</td>\n",
       "      <td>648.0</td>\n",
       "      <td>2016/02/02</td>\n",
       "      <td>648.0</td>\n",
       "      <td>2016/02/02</td>\n",
       "      <td>-20.0</td>\n",
       "      <td>-3.086</td>\n",
       "      <td>625.736</td>\n",
       "      <td>-0.031301</td>\n",
       "      <td>0.075342</td>\n",
       "      <td>0.0</td>\n",
       "      <td>0.0</td>\n",
       "      <td>0.029787</td>\n",
       "      <td>0.047774</td>\n",
       "      <td>0.0</td>\n",
       "      <td>0.0</td>\n",
       "      <td>0.0</td>\n",
       "      <td>0.0</td>\n",
       "      <td>0.0</td>\n",
       "      <td>0.0</td>\n",
       "      <td>0.0</td>\n",
       "      <td>0.0</td>\n",
       "      <td>0.0</td>\n",
       "      <td>0.0</td>\n",
       "      <td>-0.002858</td>\n",
       "      <td>0.0</td>\n",
       "      <td>0.0</td>\n",
       "      <td>-0.049254</td>\n",
       "      <td>-0.049254</td>\n",
       "      <td>-0.049254</td>\n",
       "      <td>0.062284</td>\n",
       "      <td>0.065972</td>\n",
       "      <td>0.065972</td>\n",
       "      <td>0.046667</td>\n",
       "      <td>0.533333</td>\n",
       "      <td>0.036624</td>\n",
       "      <td>0.044102</td>\n",
       "      <td>0.045039</td>\n",
       "      <td>0.0</td>\n",
       "      <td>0.0</td>\n",
       "      <td>0.0</td>\n",
       "      <td>0.0</td>\n",
       "    </tr>\n",
       "    <tr>\n",
       "      <th>1243</th>\n",
       "      <td>1332</td>\n",
       "      <td>2016-02-04</td>\n",
       "      <td>621.0</td>\n",
       "      <td>625.0</td>\n",
       "      <td>592.0</td>\n",
       "      <td>596.0</td>\n",
       "      <td>596.0</td>\n",
       "      <td>3378300.0</td>\n",
       "      <td>1.0</td>\n",
       "      <td>628.0</td>\n",
       "      <td>2016/02/03</td>\n",
       "      <td>628.0</td>\n",
       "      <td>2016/02/03</td>\n",
       "      <td>-32.0</td>\n",
       "      <td>-5.096</td>\n",
       "      <td>603.018</td>\n",
       "      <td>-0.052214</td>\n",
       "      <td>-0.001675</td>\n",
       "      <td>0.0</td>\n",
       "      <td>0.0</td>\n",
       "      <td>0.025945</td>\n",
       "      <td>0.045369</td>\n",
       "      <td>0.0</td>\n",
       "      <td>0.0</td>\n",
       "      <td>0.0</td>\n",
       "      <td>0.0</td>\n",
       "      <td>0.0</td>\n",
       "      <td>0.0</td>\n",
       "      <td>0.0</td>\n",
       "      <td>0.0</td>\n",
       "      <td>0.0</td>\n",
       "      <td>0.0</td>\n",
       "      <td>-0.053367</td>\n",
       "      <td>0.0</td>\n",
       "      <td>0.0</td>\n",
       "      <td>-0.067164</td>\n",
       "      <td>-0.067164</td>\n",
       "      <td>-0.067164</td>\n",
       "      <td>0.000000</td>\n",
       "      <td>0.025997</td>\n",
       "      <td>0.027778</td>\n",
       "      <td>-0.006667</td>\n",
       "      <td>0.461538</td>\n",
       "      <td>0.055369</td>\n",
       "      <td>0.047136</td>\n",
       "      <td>0.044857</td>\n",
       "      <td>0.0</td>\n",
       "      <td>0.0</td>\n",
       "      <td>0.0</td>\n",
       "      <td>0.0</td>\n",
       "    </tr>\n",
       "    <tr>\n",
       "      <th>1244</th>\n",
       "      <td>1332</td>\n",
       "      <td>2016-02-05</td>\n",
       "      <td>590.0</td>\n",
       "      <td>624.0</td>\n",
       "      <td>580.0</td>\n",
       "      <td>591.0</td>\n",
       "      <td>591.0</td>\n",
       "      <td>6473000.0</td>\n",
       "      <td>1.0</td>\n",
       "      <td>596.0</td>\n",
       "      <td>2016/02/04</td>\n",
       "      <td>596.0</td>\n",
       "      <td>2016/02/04</td>\n",
       "      <td>-5.0</td>\n",
       "      <td>-0.839</td>\n",
       "      <td>594.383</td>\n",
       "      <td>-0.008410</td>\n",
       "      <td>-0.054400</td>\n",
       "      <td>0.0</td>\n",
       "      <td>0.0</td>\n",
       "      <td>0.033763</td>\n",
       "      <td>0.035279</td>\n",
       "      <td>0.0</td>\n",
       "      <td>0.0</td>\n",
       "      <td>0.0</td>\n",
       "      <td>0.0</td>\n",
       "      <td>0.0</td>\n",
       "      <td>0.0</td>\n",
       "      <td>0.0</td>\n",
       "      <td>0.0</td>\n",
       "      <td>0.0</td>\n",
       "      <td>0.0</td>\n",
       "      <td>-0.051060</td>\n",
       "      <td>0.0</td>\n",
       "      <td>0.0</td>\n",
       "      <td>-0.068657</td>\n",
       "      <td>-0.068657</td>\n",
       "      <td>-0.068657</td>\n",
       "      <td>0.000000</td>\n",
       "      <td>0.005199</td>\n",
       "      <td>0.006944</td>\n",
       "      <td>-0.015000</td>\n",
       "      <td>0.454976</td>\n",
       "      <td>0.074450</td>\n",
       "      <td>0.051146</td>\n",
       "      <td>0.048163</td>\n",
       "      <td>0.0</td>\n",
       "      <td>0.0</td>\n",
       "      <td>0.0</td>\n",
       "      <td>0.0</td>\n",
       "    </tr>\n",
       "  </tbody>\n",
       "</table>\n",
       "</div>"
      ],
      "text/plain": [
       "            Local Code EndOfDayQuote Date  EndOfDayQuote Open  \\\n",
       "Unnamed: 0                                                      \n",
       "1240              1332         2016-02-01               630.0   \n",
       "1241              1332         2016-02-02               646.0   \n",
       "1242              1332         2016-02-03               636.0   \n",
       "1243              1332         2016-02-04               621.0   \n",
       "1244              1332         2016-02-05               590.0   \n",
       "\n",
       "            EndOfDayQuote High  EndOfDayQuote Low  EndOfDayQuote Close  \\\n",
       "Unnamed: 0                                                               \n",
       "1240                     656.0              625.0                651.0   \n",
       "1241                     670.0              643.0                648.0   \n",
       "1242                     637.0              614.0                628.0   \n",
       "1243                     625.0              592.0                596.0   \n",
       "1244                     624.0              580.0                591.0   \n",
       "\n",
       "            EndOfDayQuote ExchangeOfficialClose  EndOfDayQuote Volume  \\\n",
       "Unnamed: 0                                                              \n",
       "1240                                      651.0             4754300.0   \n",
       "1241                                      648.0             4940900.0   \n",
       "1242                                      628.0             4113500.0   \n",
       "1243                                      596.0             3378300.0   \n",
       "1244                                      591.0             6473000.0   \n",
       "\n",
       "            EndOfDayQuote CumulativeAdjustmentFactor  \\\n",
       "Unnamed: 0                                             \n",
       "1240                                             1.0   \n",
       "1241                                             1.0   \n",
       "1242                                             1.0   \n",
       "1243                                             1.0   \n",
       "1244                                             1.0   \n",
       "\n",
       "            EndOfDayQuote PreviousClose EndOfDayQuote PreviousCloseDate  \\\n",
       "Unnamed: 0                                                                \n",
       "1240                              625.0                      2016/01/29   \n",
       "1241                              651.0                      2016/02/01   \n",
       "1242                              648.0                      2016/02/02   \n",
       "1243                              628.0                      2016/02/03   \n",
       "1244                              596.0                      2016/02/04   \n",
       "\n",
       "            EndOfDayQuote PreviousExchangeOfficialClose  \\\n",
       "Unnamed: 0                                                \n",
       "1240                                              625.0   \n",
       "1241                                              651.0   \n",
       "1242                                              648.0   \n",
       "1243                                              628.0   \n",
       "1244                                              596.0   \n",
       "\n",
       "           EndOfDayQuote PreviousExchangeOfficialCloseDate  \\\n",
       "Unnamed: 0                                                   \n",
       "1240                                            2016/01/29   \n",
       "1241                                            2016/02/01   \n",
       "1242                                            2016/02/02   \n",
       "1243                                            2016/02/03   \n",
       "1244                                            2016/02/04   \n",
       "\n",
       "            EndOfDayQuote ChangeFromPreviousClose  \\\n",
       "Unnamed: 0                                          \n",
       "1240                                         26.0   \n",
       "1241                                         -3.0   \n",
       "1242                                        -20.0   \n",
       "1243                                        -32.0   \n",
       "1244                                         -5.0   \n",
       "\n",
       "            EndOfDayQuote PercentChangeFromPreviousClose  EndOfDayQuote VWAP  \\\n",
       "Unnamed: 0                                                                     \n",
       "1240                                               4.160             644.696   \n",
       "1241                                              -0.461             657.737   \n",
       "1242                                              -3.086             625.736   \n",
       "1243                                              -5.096             603.018   \n",
       "1244                                              -0.839             594.383   \n",
       "\n",
       "               log_R  return_5  return_25  return_75      HV_5     HV_10  \\\n",
       "Unnamed: 0                                                                 \n",
       "1240        0.040694  0.105263        0.0        0.0  0.011180  0.044489   \n",
       "1241       -0.004612  0.111492        0.0        0.0  0.028243  0.047180   \n",
       "1242       -0.031301  0.075342        0.0        0.0  0.029787  0.047774   \n",
       "1243       -0.052214 -0.001675        0.0        0.0  0.025945  0.045369   \n",
       "1244       -0.008410 -0.054400        0.0        0.0  0.033763  0.035279   \n",
       "\n",
       "            HV_25  HV_50  HV_75  HV_100  MA20_HV5  MA20_HV10  MA20_HV25  \\\n",
       "Unnamed: 0                                                                \n",
       "1240          0.0    0.0    0.0     0.0       0.0        0.0        0.0   \n",
       "1241          0.0    0.0    0.0     0.0       0.0        0.0        0.0   \n",
       "1242          0.0    0.0    0.0     0.0       0.0        0.0        0.0   \n",
       "1243          0.0    0.0    0.0     0.0       0.0        0.0        0.0   \n",
       "1244          0.0    0.0    0.0     0.0       0.0        0.0        0.0   \n",
       "\n",
       "            MA20_HV50  MA20_HV75  MA20_HV100     MADR5  MADR25  MADR75  \\\n",
       "Unnamed: 0                                                               \n",
       "1240              0.0        0.0         0.0  0.070724     0.0     0.0   \n",
       "1241              0.0        0.0         0.0  0.043478     0.0     0.0   \n",
       "1242              0.0        0.0         0.0 -0.002858     0.0     0.0   \n",
       "1243              0.0        0.0         0.0 -0.053367     0.0     0.0   \n",
       "1244              0.0        0.0         0.0 -0.051060     0.0     0.0   \n",
       "\n",
       "               MXDR5    MXDR10    MXDR20     MNDR5    MNDR10    MNDR20  \\\n",
       "Unnamed: 0                                                               \n",
       "1240        0.000000  0.000000 -0.074753  0.083189  0.085069  0.085069   \n",
       "1241        0.000000  0.000000  0.000000  0.114385  0.116319  0.116319   \n",
       "1242       -0.049254 -0.049254 -0.049254  0.062284  0.065972  0.065972   \n",
       "1243       -0.067164 -0.067164 -0.067164  0.000000  0.025997  0.027778   \n",
       "1244       -0.068657 -0.068657 -0.068657  0.000000  0.005199  0.006944   \n",
       "\n",
       "                RNDR       RSI     H-L_C  MA5_H-L_C  MA10_H-L_C  MA25_H-L_C  \\\n",
       "Unnamed: 0                                                                    \n",
       "1240       -0.070000  0.563107  0.047619   0.040782    0.044310         0.0   \n",
       "1241        0.080000  0.507937  0.041667   0.043627    0.045997         0.0   \n",
       "1242        0.046667  0.533333  0.036624   0.044102    0.045039         0.0   \n",
       "1243       -0.006667  0.461538  0.055369   0.047136    0.044857         0.0   \n",
       "1244       -0.015000  0.454976  0.074450   0.051146    0.048163         0.0   \n",
       "\n",
       "            MA50_H-L_C  MA75_H-L_C  MA100_H-L_C  \n",
       "Unnamed: 0                                       \n",
       "1240               0.0         0.0          0.0  \n",
       "1241               0.0         0.0          0.0  \n",
       "1242               0.0         0.0          0.0  \n",
       "1243               0.0         0.0          0.0  \n",
       "1244               0.0         0.0          0.0  "
      ]
     },
     "execution_count": 9,
     "metadata": {
      "tags": []
     },
     "output_type": "execute_result"
    }
   ],
   "source": [
    "ds.technical_index[ds.technical_index['Local Code'] == 1332].loc[1240:].head()"
   ]
  },
  {
   "cell_type": "code",
   "execution_count": null,
   "metadata": {
    "colab": {
     "base_uri": "https://localhost:8080/",
     "height": 326
    },
    "id": "M63lfO6UVcxu",
    "outputId": "4ca3c968-911a-48a1-d8d3-1557a0ac5906"
   },
   "outputs": [
    {
     "data": {
      "text/html": [
       "<div>\n",
       "<style scoped>\n",
       "    .dataframe tbody tr th:only-of-type {\n",
       "        vertical-align: middle;\n",
       "    }\n",
       "\n",
       "    .dataframe tbody tr th {\n",
       "        vertical-align: top;\n",
       "    }\n",
       "\n",
       "    .dataframe thead th {\n",
       "        text-align: right;\n",
       "    }\n",
       "</style>\n",
       "<table border=\"1\" class=\"dataframe\">\n",
       "  <thead>\n",
       "    <tr style=\"text-align: right;\">\n",
       "      <th></th>\n",
       "      <th>base_date</th>\n",
       "      <th>Local Code</th>\n",
       "      <th>OperatingIncome_NetSales</th>\n",
       "      <th>OrdinaryIncome_NetSales</th>\n",
       "      <th>NetIncome_NetSales</th>\n",
       "      <th>NetSales_Growth</th>\n",
       "      <th>OperatingIncome_Growth</th>\n",
       "      <th>OrdinaryIncome_Growth</th>\n",
       "      <th>NetIncome_Growth</th>\n",
       "      <th>Forecast_NetSales_Growth</th>\n",
       "      <th>Forecast_OperatingIncome_Growth</th>\n",
       "      <th>Forecast_OrdinaryIncome_Growth</th>\n",
       "      <th>Forecast_NetIncome_Growth</th>\n",
       "      <th>Capital_Ratio</th>\n",
       "      <th>ROE</th>\n",
       "      <th>ROA</th>\n",
       "      <th>EndOfDayQuote ExchangeOfficialClose</th>\n",
       "      <th>Dividend_Yeild</th>\n",
       "      <th>CF_Operating_pn_-1.0</th>\n",
       "      <th>CF_Operating_pn_0.0</th>\n",
       "      <th>CF_Operating_pn_1.0</th>\n",
       "      <th>CF_Financing_pn_-1.0</th>\n",
       "      <th>CF_Financing_pn_0.0</th>\n",
       "      <th>CF_Financing_pn_1.0</th>\n",
       "      <th>CF_Investing_pn_-1.0</th>\n",
       "      <th>CF_Investing_pn_0.0</th>\n",
       "      <th>CF_Investing_pn_1.0</th>\n",
       "      <th>17_Sector_1</th>\n",
       "      <th>17_Sector_2</th>\n",
       "      <th>17_Sector_3</th>\n",
       "      <th>17_Sector_4</th>\n",
       "      <th>17_Sector_5</th>\n",
       "      <th>17_Sector_6</th>\n",
       "      <th>17_Sector_7</th>\n",
       "      <th>17_Sector_8</th>\n",
       "      <th>17_Sector_9</th>\n",
       "      <th>17_Sector_10</th>\n",
       "      <th>17_Sector_11</th>\n",
       "      <th>17_Sector_12</th>\n",
       "      <th>17_Sector_13</th>\n",
       "      <th>17_Sector_14</th>\n",
       "      <th>17_Sector_15</th>\n",
       "      <th>17_Sector_16</th>\n",
       "      <th>17_Sector_17</th>\n",
       "      <th>Result_FinancialStatement ReportType_Annual</th>\n",
       "      <th>Result_FinancialStatement ReportType_Q1</th>\n",
       "      <th>Result_FinancialStatement ReportType_Q2</th>\n",
       "      <th>Result_FinancialStatement ReportType_Q3</th>\n",
       "    </tr>\n",
       "  </thead>\n",
       "  <tbody>\n",
       "    <tr>\n",
       "      <th>20</th>\n",
       "      <td>2016-02-05</td>\n",
       "      <td>1332</td>\n",
       "      <td>0.035628</td>\n",
       "      <td>0.038829</td>\n",
       "      <td>0.023085</td>\n",
       "      <td>0.000000</td>\n",
       "      <td>0.000000</td>\n",
       "      <td>0.000000</td>\n",
       "      <td>0.000000</td>\n",
       "      <td>0.314927</td>\n",
       "      <td>0.038002</td>\n",
       "      <td>0.058257</td>\n",
       "      <td>0.023496</td>\n",
       "      <td>0.240797</td>\n",
       "      <td>0.098131</td>\n",
       "      <td>0.023630</td>\n",
       "      <td>591.0</td>\n",
       "      <td>0.000000</td>\n",
       "      <td>0</td>\n",
       "      <td>1</td>\n",
       "      <td>0</td>\n",
       "      <td>0</td>\n",
       "      <td>1</td>\n",
       "      <td>0</td>\n",
       "      <td>0</td>\n",
       "      <td>1</td>\n",
       "      <td>0</td>\n",
       "      <td>1</td>\n",
       "      <td>0</td>\n",
       "      <td>0</td>\n",
       "      <td>0</td>\n",
       "      <td>0</td>\n",
       "      <td>0</td>\n",
       "      <td>0</td>\n",
       "      <td>0</td>\n",
       "      <td>0</td>\n",
       "      <td>0</td>\n",
       "      <td>0</td>\n",
       "      <td>0</td>\n",
       "      <td>0</td>\n",
       "      <td>0</td>\n",
       "      <td>0</td>\n",
       "      <td>0</td>\n",
       "      <td>0</td>\n",
       "      <td>0</td>\n",
       "      <td>0</td>\n",
       "      <td>0</td>\n",
       "      <td>1</td>\n",
       "    </tr>\n",
       "    <tr>\n",
       "      <th>21</th>\n",
       "      <td>2016-05-13</td>\n",
       "      <td>1332</td>\n",
       "      <td>0.030513</td>\n",
       "      <td>0.032481</td>\n",
       "      <td>0.019315</td>\n",
       "      <td>0.000000</td>\n",
       "      <td>0.000000</td>\n",
       "      <td>0.000000</td>\n",
       "      <td>0.000000</td>\n",
       "      <td>-0.505622</td>\n",
       "      <td>-0.588520</td>\n",
       "      <td>-0.589293</td>\n",
       "      <td>-0.634354</td>\n",
       "      <td>0.255841</td>\n",
       "      <td>0.107928</td>\n",
       "      <td>0.027612</td>\n",
       "      <td>552.0</td>\n",
       "      <td>0.005435</td>\n",
       "      <td>0</td>\n",
       "      <td>0</td>\n",
       "      <td>1</td>\n",
       "      <td>1</td>\n",
       "      <td>0</td>\n",
       "      <td>0</td>\n",
       "      <td>1</td>\n",
       "      <td>0</td>\n",
       "      <td>0</td>\n",
       "      <td>1</td>\n",
       "      <td>0</td>\n",
       "      <td>0</td>\n",
       "      <td>0</td>\n",
       "      <td>0</td>\n",
       "      <td>0</td>\n",
       "      <td>0</td>\n",
       "      <td>0</td>\n",
       "      <td>0</td>\n",
       "      <td>0</td>\n",
       "      <td>0</td>\n",
       "      <td>0</td>\n",
       "      <td>0</td>\n",
       "      <td>0</td>\n",
       "      <td>0</td>\n",
       "      <td>0</td>\n",
       "      <td>0</td>\n",
       "      <td>1</td>\n",
       "      <td>0</td>\n",
       "      <td>0</td>\n",
       "      <td>0</td>\n",
       "    </tr>\n",
       "    <tr>\n",
       "      <th>22</th>\n",
       "      <td>2016-08-05</td>\n",
       "      <td>1332</td>\n",
       "      <td>0.026698</td>\n",
       "      <td>0.025061</td>\n",
       "      <td>0.010579</td>\n",
       "      <td>0.000000</td>\n",
       "      <td>0.000000</td>\n",
       "      <td>0.000000</td>\n",
       "      <td>0.000000</td>\n",
       "      <td>1.014827</td>\n",
       "      <td>0.916627</td>\n",
       "      <td>1.169474</td>\n",
       "      <td>1.720677</td>\n",
       "      <td>0.246581</td>\n",
       "      <td>0.015293</td>\n",
       "      <td>0.003771</td>\n",
       "      <td>453.0</td>\n",
       "      <td>0.006623</td>\n",
       "      <td>0</td>\n",
       "      <td>1</td>\n",
       "      <td>0</td>\n",
       "      <td>0</td>\n",
       "      <td>1</td>\n",
       "      <td>0</td>\n",
       "      <td>0</td>\n",
       "      <td>1</td>\n",
       "      <td>0</td>\n",
       "      <td>1</td>\n",
       "      <td>0</td>\n",
       "      <td>0</td>\n",
       "      <td>0</td>\n",
       "      <td>0</td>\n",
       "      <td>0</td>\n",
       "      <td>0</td>\n",
       "      <td>0</td>\n",
       "      <td>0</td>\n",
       "      <td>0</td>\n",
       "      <td>0</td>\n",
       "      <td>0</td>\n",
       "      <td>0</td>\n",
       "      <td>0</td>\n",
       "      <td>0</td>\n",
       "      <td>0</td>\n",
       "      <td>0</td>\n",
       "      <td>0</td>\n",
       "      <td>1</td>\n",
       "      <td>0</td>\n",
       "      <td>0</td>\n",
       "    </tr>\n",
       "    <tr>\n",
       "      <th>23</th>\n",
       "      <td>2016-11-04</td>\n",
       "      <td>1332</td>\n",
       "      <td>0.032302</td>\n",
       "      <td>0.030406</td>\n",
       "      <td>0.015450</td>\n",
       "      <td>0.000000</td>\n",
       "      <td>0.000000</td>\n",
       "      <td>0.000000</td>\n",
       "      <td>0.000000</td>\n",
       "      <td>0.991704</td>\n",
       "      <td>0.987362</td>\n",
       "      <td>1.165440</td>\n",
       "      <td>1.557000</td>\n",
       "      <td>0.276056</td>\n",
       "      <td>0.038613</td>\n",
       "      <td>0.010659</td>\n",
       "      <td>522.0</td>\n",
       "      <td>0.004789</td>\n",
       "      <td>0</td>\n",
       "      <td>1</td>\n",
       "      <td>0</td>\n",
       "      <td>0</td>\n",
       "      <td>1</td>\n",
       "      <td>0</td>\n",
       "      <td>0</td>\n",
       "      <td>1</td>\n",
       "      <td>0</td>\n",
       "      <td>1</td>\n",
       "      <td>0</td>\n",
       "      <td>0</td>\n",
       "      <td>0</td>\n",
       "      <td>0</td>\n",
       "      <td>0</td>\n",
       "      <td>0</td>\n",
       "      <td>0</td>\n",
       "      <td>0</td>\n",
       "      <td>0</td>\n",
       "      <td>0</td>\n",
       "      <td>0</td>\n",
       "      <td>0</td>\n",
       "      <td>0</td>\n",
       "      <td>0</td>\n",
       "      <td>0</td>\n",
       "      <td>0</td>\n",
       "      <td>0</td>\n",
       "      <td>0</td>\n",
       "      <td>1</td>\n",
       "      <td>0</td>\n",
       "    </tr>\n",
       "    <tr>\n",
       "      <th>24</th>\n",
       "      <td>2017-02-21</td>\n",
       "      <td>1332</td>\n",
       "      <td>0.039917</td>\n",
       "      <td>0.044196</td>\n",
       "      <td>0.026400</td>\n",
       "      <td>-0.036773</td>\n",
       "      <td>0.079177</td>\n",
       "      <td>0.096354</td>\n",
       "      <td>0.101549</td>\n",
       "      <td>0.339530</td>\n",
       "      <td>0.148873</td>\n",
       "      <td>0.134170</td>\n",
       "      <td>0.131130</td>\n",
       "      <td>0.291469</td>\n",
       "      <td>0.093327</td>\n",
       "      <td>0.027202</td>\n",
       "      <td>562.0</td>\n",
       "      <td>0.004448</td>\n",
       "      <td>0</td>\n",
       "      <td>1</td>\n",
       "      <td>0</td>\n",
       "      <td>0</td>\n",
       "      <td>1</td>\n",
       "      <td>0</td>\n",
       "      <td>0</td>\n",
       "      <td>1</td>\n",
       "      <td>0</td>\n",
       "      <td>1</td>\n",
       "      <td>0</td>\n",
       "      <td>0</td>\n",
       "      <td>0</td>\n",
       "      <td>0</td>\n",
       "      <td>0</td>\n",
       "      <td>0</td>\n",
       "      <td>0</td>\n",
       "      <td>0</td>\n",
       "      <td>0</td>\n",
       "      <td>0</td>\n",
       "      <td>0</td>\n",
       "      <td>0</td>\n",
       "      <td>0</td>\n",
       "      <td>0</td>\n",
       "      <td>0</td>\n",
       "      <td>0</td>\n",
       "      <td>0</td>\n",
       "      <td>0</td>\n",
       "      <td>0</td>\n",
       "      <td>1</td>\n",
       "    </tr>\n",
       "  </tbody>\n",
       "</table>\n",
       "</div>"
      ],
      "text/plain": [
       "    base_date  Local Code  OperatingIncome_NetSales  OrdinaryIncome_NetSales  \\\n",
       "20 2016-02-05        1332                  0.035628                 0.038829   \n",
       "21 2016-05-13        1332                  0.030513                 0.032481   \n",
       "22 2016-08-05        1332                  0.026698                 0.025061   \n",
       "23 2016-11-04        1332                  0.032302                 0.030406   \n",
       "24 2017-02-21        1332                  0.039917                 0.044196   \n",
       "\n",
       "    NetIncome_NetSales  NetSales_Growth  OperatingIncome_Growth  \\\n",
       "20            0.023085         0.000000                0.000000   \n",
       "21            0.019315         0.000000                0.000000   \n",
       "22            0.010579         0.000000                0.000000   \n",
       "23            0.015450         0.000000                0.000000   \n",
       "24            0.026400        -0.036773                0.079177   \n",
       "\n",
       "    OrdinaryIncome_Growth  NetIncome_Growth  Forecast_NetSales_Growth  \\\n",
       "20               0.000000          0.000000                  0.314927   \n",
       "21               0.000000          0.000000                 -0.505622   \n",
       "22               0.000000          0.000000                  1.014827   \n",
       "23               0.000000          0.000000                  0.991704   \n",
       "24               0.096354          0.101549                  0.339530   \n",
       "\n",
       "    Forecast_OperatingIncome_Growth  Forecast_OrdinaryIncome_Growth  \\\n",
       "20                         0.038002                        0.058257   \n",
       "21                        -0.588520                       -0.589293   \n",
       "22                         0.916627                        1.169474   \n",
       "23                         0.987362                        1.165440   \n",
       "24                         0.148873                        0.134170   \n",
       "\n",
       "    Forecast_NetIncome_Growth  Capital_Ratio       ROE       ROA  \\\n",
       "20                   0.023496       0.240797  0.098131  0.023630   \n",
       "21                  -0.634354       0.255841  0.107928  0.027612   \n",
       "22                   1.720677       0.246581  0.015293  0.003771   \n",
       "23                   1.557000       0.276056  0.038613  0.010659   \n",
       "24                   0.131130       0.291469  0.093327  0.027202   \n",
       "\n",
       "    EndOfDayQuote ExchangeOfficialClose  Dividend_Yeild  CF_Operating_pn_-1.0  \\\n",
       "20                                591.0        0.000000                     0   \n",
       "21                                552.0        0.005435                     0   \n",
       "22                                453.0        0.006623                     0   \n",
       "23                                522.0        0.004789                     0   \n",
       "24                                562.0        0.004448                     0   \n",
       "\n",
       "    CF_Operating_pn_0.0  CF_Operating_pn_1.0  CF_Financing_pn_-1.0  \\\n",
       "20                    1                    0                     0   \n",
       "21                    0                    1                     1   \n",
       "22                    1                    0                     0   \n",
       "23                    1                    0                     0   \n",
       "24                    1                    0                     0   \n",
       "\n",
       "    CF_Financing_pn_0.0  CF_Financing_pn_1.0  CF_Investing_pn_-1.0  \\\n",
       "20                    1                    0                     0   \n",
       "21                    0                    0                     1   \n",
       "22                    1                    0                     0   \n",
       "23                    1                    0                     0   \n",
       "24                    1                    0                     0   \n",
       "\n",
       "    CF_Investing_pn_0.0  CF_Investing_pn_1.0  17_Sector_1  17_Sector_2  \\\n",
       "20                    1                    0            1            0   \n",
       "21                    0                    0            1            0   \n",
       "22                    1                    0            1            0   \n",
       "23                    1                    0            1            0   \n",
       "24                    1                    0            1            0   \n",
       "\n",
       "    17_Sector_3  17_Sector_4  17_Sector_5  17_Sector_6  17_Sector_7  \\\n",
       "20            0            0            0            0            0   \n",
       "21            0            0            0            0            0   \n",
       "22            0            0            0            0            0   \n",
       "23            0            0            0            0            0   \n",
       "24            0            0            0            0            0   \n",
       "\n",
       "    17_Sector_8  17_Sector_9  17_Sector_10  17_Sector_11  17_Sector_12  \\\n",
       "20            0            0             0             0             0   \n",
       "21            0            0             0             0             0   \n",
       "22            0            0             0             0             0   \n",
       "23            0            0             0             0             0   \n",
       "24            0            0             0             0             0   \n",
       "\n",
       "    17_Sector_13  17_Sector_14  17_Sector_15  17_Sector_16  17_Sector_17  \\\n",
       "20             0             0             0             0             0   \n",
       "21             0             0             0             0             0   \n",
       "22             0             0             0             0             0   \n",
       "23             0             0             0             0             0   \n",
       "24             0             0             0             0             0   \n",
       "\n",
       "    Result_FinancialStatement ReportType_Annual  \\\n",
       "20                                            0   \n",
       "21                                            1   \n",
       "22                                            0   \n",
       "23                                            0   \n",
       "24                                            0   \n",
       "\n",
       "    Result_FinancialStatement ReportType_Q1  \\\n",
       "20                                        0   \n",
       "21                                        0   \n",
       "22                                        1   \n",
       "23                                        0   \n",
       "24                                        0   \n",
       "\n",
       "    Result_FinancialStatement ReportType_Q2  \\\n",
       "20                                        0   \n",
       "21                                        0   \n",
       "22                                        0   \n",
       "23                                        1   \n",
       "24                                        0   \n",
       "\n",
       "    Result_FinancialStatement ReportType_Q3  \n",
       "20                                        1  \n",
       "21                                        0  \n",
       "22                                        0  \n",
       "23                                        0  \n",
       "24                                        1  "
      ]
     },
     "execution_count": 10,
     "metadata": {
      "tags": []
     },
     "output_type": "execute_result"
    }
   ],
   "source": [
    "ds.fundamental_index[ds.fundamental_index['Local Code'] == 1332].head()"
   ]
  },
  {
   "cell_type": "code",
   "execution_count": null,
   "metadata": {
    "id": "9Si21O4jVcxv"
   },
   "outputs": [],
   "source": []
  },
  {
   "cell_type": "markdown",
   "metadata": {
    "id": "P1OV5u2cVcxv"
   },
   "source": [
    "# Train/Validation Dataset"
   ]
  },
  {
   "cell_type": "code",
   "execution_count": null,
   "metadata": {
    "id": "U7kPvuzNVcxv"
   },
   "outputs": [],
   "source": [
    "# データの分割期間の設定\n",
    "TRAIN_END = \"2017-11-30\"\n",
    "VAL_START = \"2018-01-01\"\n",
    "VAL_END = \"2018-12-01\"\n",
    "TEST_START = \"2019-01-01\""
   ]
  },
  {
   "cell_type": "code",
   "execution_count": null,
   "metadata": {
    "id": "SGppVfJuVcxw"
   },
   "outputs": [],
   "source": [
    "# 各データのインデックスを取得\n",
    "train_index = ds.fundamental_index.index[ds.fundamental_index['base_date'] <= TRAIN_END].values\n",
    "val_index = ds.fundamental_index.index[(ds.fundamental_index['base_date'] >= VAL_START) & (ds.fundamental_index['base_date'] <= VAL_END)] .values\n",
    "test_index = ds.fundamental_index.index[ds.fundamental_index['base_date'] >= TEST_START].values"
   ]
  },
  {
   "cell_type": "code",
   "execution_count": null,
   "metadata": {
    "colab": {
     "base_uri": "https://localhost:8080/"
    },
    "id": "pWSDjCupVcxw",
    "outputId": "8dde5885-1980-4175-c385-f2a6812ccf55"
   },
   "outputs": [
    {
     "name": "stdout",
     "output_type": "stream",
     "text": [
      "train size: 26509\n",
      "valid size: 13662\n",
      "test size: 29027\n"
     ]
    }
   ],
   "source": [
    "from torch.utils.data.dataset import Subset\n",
    "\n",
    "train_ds = Subset(ds, train_index)\n",
    "valid_ds = Subset(ds, val_index)\n",
    "test_ds = Subset(ds, test_index)\n",
    "\n",
    "\n",
    "print('train size:',len(train_ds))\n",
    "print('valid size:',len(valid_ds))\n",
    "print('test size:',len(test_ds))"
   ]
  },
  {
   "cell_type": "markdown",
   "metadata": {
    "id": "O5F-5lK_Vcx0"
   },
   "source": [
    "# DataLoader"
   ]
  },
  {
   "cell_type": "code",
   "execution_count": null,
   "metadata": {
    "id": "GM4_6aHkVcx1"
   },
   "outputs": [],
   "source": [
    "batch_size = 2048\n",
    "\n",
    "# make DataLoder\n",
    "train_dataloader = torch.utils.data.DataLoader(train_ds, batch_size=batch_size, shuffle=True)\n",
    "valid_dataloader = torch.utils.data.DataLoader(valid_ds, batch_size=batch_size, shuffle=True)\n",
    "test_dataloader = torch.utils.data.DataLoader(test_ds, batch_size=batch_size, shuffle=True)\n",
    "\n",
    "# dict\n",
    "dataloaders_dict = {'train': train_dataloader,\n",
    "                    'val'  : valid_dataloader,\n",
    "                    'test' : test_dataloader}"
   ]
  },
  {
   "cell_type": "code",
   "execution_count": null,
   "metadata": {
    "colab": {
     "base_uri": "https://localhost:8080/"
    },
    "id": "LvLjnaoPVcx2",
    "outputId": "9baeb824-3be0-4247-d380-1455966ca5a7"
   },
   "outputs": [
    {
     "name": "stdout",
     "output_type": "stream",
     "text": [
      "torch.Size([2048, 5, 30]) torch.Size([2048, 46]) torch.Size([2048, 1, 4])\n"
     ]
    }
   ],
   "source": [
    "# Check\n",
    "batch_iterator = iter(dataloaders_dict['train'])\n",
    "inputs_ts, inputs_cs, labels = next(batch_iterator)\n",
    "print(inputs_ts.size(), inputs_cs.size(), labels.size())"
   ]
  },
  {
   "cell_type": "markdown",
   "metadata": {
    "id": "T6SUsiRIVcx-"
   },
   "source": [
    "## モデル構築\n",
    "Network(TCN)  \n",
    "https://github.com/locuslab/TCN/blob/master/TCN/tcn.py"
   ]
  },
  {
   "cell_type": "code",
   "execution_count": null,
   "metadata": {
    "id": "zjijWKEWVcx_"
   },
   "outputs": [],
   "source": [
    "import torch\n",
    "import torch.nn as nn\n",
    "from torch.nn.utils import weight_norm\n",
    "\n",
    "\n",
    "class Chomp1d(nn.Module):\n",
    "    def __init__(self, chomp_size):\n",
    "        super(Chomp1d, self).__init__()\n",
    "        self.chomp_size = chomp_size\n",
    "\n",
    "    def forward(self, x):\n",
    "        return x[:, :, :-self.chomp_size].contiguous()\n",
    "\n",
    "\n",
    "class TemporalBlock(nn.Module):\n",
    "    def __init__(self, n_inputs, n_outputs, kernel_size, stride, dilation, padding, dropout=0.2):\n",
    "        super(TemporalBlock, self).__init__()\n",
    "        self.conv1 = weight_norm(nn.Conv1d(n_inputs, n_outputs, kernel_size,\n",
    "                                           stride=stride, padding=padding, dilation=dilation))\n",
    "        self.chomp1 = Chomp1d(padding)\n",
    "        self.relu1 = nn.ReLU() #nn.SiLU()\n",
    "        self.dropout1 = nn.Dropout(dropout)\n",
    "\n",
    "        self.conv2 = weight_norm(nn.Conv1d(n_outputs, n_outputs, kernel_size,\n",
    "                                           stride=stride, padding=padding, dilation=dilation))\n",
    "        self.chomp2 = Chomp1d(padding)\n",
    "        self.relu2 = nn.ReLU()\n",
    "        self.dropout2 = nn.Dropout(dropout)\n",
    "\n",
    "        self.net = nn.Sequential(self.conv1, self.chomp1, self.relu1, self.dropout1,\n",
    "                                 self.conv2, self.chomp2, self.relu2, self.dropout2)\n",
    "        self.downsample = nn.Conv1d(n_inputs, n_outputs, 1) if n_inputs != n_outputs else None\n",
    "        self.relu = nn.ReLU()\n",
    "        self.init_weights()\n",
    "\n",
    "    def init_weights(self):\n",
    "        self.conv1.weight.data.normal_(0, 0.01)\n",
    "        self.conv2.weight.data.normal_(0, 0.01)\n",
    "        if self.downsample is not None:\n",
    "            self.downsample.weight.data.normal_(0, 0.01)\n",
    "\n",
    "    def forward(self, x):\n",
    "        out = self.net(x)\n",
    "        res = x if self.downsample is None else self.downsample(x)\n",
    "        return self.relu(out + res)\n",
    "\n",
    "\n",
    "class TemporalConvNet(nn.Module):\n",
    "    def __init__(self, num_inputs, num_channels, kernel_size=2, dropout=0.2):\n",
    "        super(TemporalConvNet, self).__init__()\n",
    "        layers = []\n",
    "        num_levels = len(num_channels)\n",
    "        for i in range(num_levels):\n",
    "            dilation_size = 2 ** i\n",
    "            in_channels = num_inputs if i == 0 else num_channels[i-1]\n",
    "            out_channels = num_channels[i]\n",
    "            layers += [TemporalBlock(in_channels, out_channels, kernel_size, stride=1, dilation=dilation_size,\n",
    "                                     padding=(kernel_size-1) * dilation_size, dropout=dropout)]\n",
    "\n",
    "        self.network = nn.Sequential(*layers)\n",
    "\n",
    "    def forward(self, x):\n",
    "        return self.network(x)"
   ]
  },
  {
   "cell_type": "code",
   "execution_count": null,
   "metadata": {
    "id": "XY1q2Ni9VcyA"
   },
   "outputs": [],
   "source": [
    "class TCN(nn.Module):\n",
    "    def __init__(self, input_size, output_size, num_channels, kernel_size, dropout):\n",
    "        super(TCN, self).__init__()\n",
    "        self.tcn = TemporalConvNet(input_size, num_channels, kernel_size=kernel_size, dropout=dropout)\n",
    "        \n",
    "        self.fc1 = nn.Linear(106, 128)\n",
    "        self.dropout1 = nn.Dropout(dropout)\n",
    "        self.batch_norm1 = nn.BatchNorm1d(128)\n",
    "        self.LeakyReLU1 = nn.LeakyReLU(negative_slope=0.01, inplace=True)\n",
    "        #self.SiLU1 = nn.SiLU()\n",
    "        \n",
    "        self.fc2 = nn.Linear(128,128)\n",
    "        self.dropout2 = nn.Dropout(dropout)\n",
    "        self.batch_norm2 = nn.BatchNorm1d(128)\n",
    "        self.LeakyReLU2 = nn.LeakyReLU(negative_slope=0.01, inplace=True)\n",
    "        #self.SiLU2 = nn.SiLU()\n",
    "        \n",
    "        self.fc3 = nn.Linear(128, output_size)\n",
    "        \n",
    "    def forward(self, inputs_ts, inputs_cs):\n",
    "        \n",
    "        y1 = self.tcn(inputs_ts)  # input should have dimension (N, C, L)\n",
    "        y1 = torch.flatten(y1, start_dim=1)\n",
    "        \n",
    "        # concate:y1(N, 60) + inputs_cs(N, 46) -> (N, 106)\n",
    "        y1 = torch.cat([y1, inputs_cs], dim=1)\n",
    "        \n",
    "        y1 = self.fc1(y1)\n",
    "        y1 = self.batch_norm1(y1)\n",
    "        y1 = self.LeakyReLU1(y1)\n",
    "        #y1 = self.SiLU1(y1)\n",
    "        \n",
    "        y1 = self.dropout1(y1)\n",
    "        \n",
    "        y1 = self.fc2(y1)\n",
    "        y1 = self.batch_norm2(y1)\n",
    "        y1 = self.LeakyReLU2(y1)\n",
    "        #y1 = self.SiLU2(y1)\n",
    "        \n",
    "        y1 = self.dropout2(y1)\n",
    "        \n",
    "        o = self.fc3(y1)\n",
    "        return o #torch.sigmoid(o)"
   ]
  },
  {
   "cell_type": "code",
   "execution_count": null,
   "metadata": {
    "colab": {
     "base_uri": "https://localhost:8080/"
    },
    "id": "nzNqszGhVcyB",
    "outputId": "36a188ab-ca7f-4bd5-b7ef-c99bdbcfff3e",
    "scrolled": true
   },
   "outputs": [
    {
     "name": "stdout",
     "output_type": "stream",
     "text": [
      "use devise: cuda:0\n",
      "TCN(\n",
      "  (gnoise): GaussianNoise()\n",
      "  (tcn): TemporalConvNet(\n",
      "    (network): Sequential(\n",
      "      (0): TemporalBlock(\n",
      "        (conv1): Conv1d(5, 16, kernel_size=(2,), stride=(1,), padding=(1,))\n",
      "        (chomp1): Chomp1d()\n",
      "        (relu1): ReLU()\n",
      "        (dropout1): Dropout(p=0.5, inplace=False)\n",
      "        (conv2): Conv1d(16, 16, kernel_size=(2,), stride=(1,), padding=(1,))\n",
      "        (chomp2): Chomp1d()\n",
      "        (relu2): ReLU()\n",
      "        (dropout2): Dropout(p=0.5, inplace=False)\n",
      "        (net): Sequential(\n",
      "          (0): Conv1d(5, 16, kernel_size=(2,), stride=(1,), padding=(1,))\n",
      "          (1): Chomp1d()\n",
      "          (2): ReLU()\n",
      "          (3): Dropout(p=0.5, inplace=False)\n",
      "          (4): Conv1d(16, 16, kernel_size=(2,), stride=(1,), padding=(1,))\n",
      "          (5): Chomp1d()\n",
      "          (6): ReLU()\n",
      "          (7): Dropout(p=0.5, inplace=False)\n",
      "        )\n",
      "        (downsample): Conv1d(5, 16, kernel_size=(1,), stride=(1,))\n",
      "        (relu): ReLU()\n",
      "      )\n",
      "      (1): TemporalBlock(\n",
      "        (conv1): Conv1d(16, 8, kernel_size=(2,), stride=(1,), padding=(2,), dilation=(2,))\n",
      "        (chomp1): Chomp1d()\n",
      "        (relu1): ReLU()\n",
      "        (dropout1): Dropout(p=0.5, inplace=False)\n",
      "        (conv2): Conv1d(8, 8, kernel_size=(2,), stride=(1,), padding=(2,), dilation=(2,))\n",
      "        (chomp2): Chomp1d()\n",
      "        (relu2): ReLU()\n",
      "        (dropout2): Dropout(p=0.5, inplace=False)\n",
      "        (net): Sequential(\n",
      "          (0): Conv1d(16, 8, kernel_size=(2,), stride=(1,), padding=(2,), dilation=(2,))\n",
      "          (1): Chomp1d()\n",
      "          (2): ReLU()\n",
      "          (3): Dropout(p=0.5, inplace=False)\n",
      "          (4): Conv1d(8, 8, kernel_size=(2,), stride=(1,), padding=(2,), dilation=(2,))\n",
      "          (5): Chomp1d()\n",
      "          (6): ReLU()\n",
      "          (7): Dropout(p=0.5, inplace=False)\n",
      "        )\n",
      "        (downsample): Conv1d(16, 8, kernel_size=(1,), stride=(1,))\n",
      "        (relu): ReLU()\n",
      "      )\n",
      "      (2): TemporalBlock(\n",
      "        (conv1): Conv1d(8, 4, kernel_size=(2,), stride=(1,), padding=(4,), dilation=(4,))\n",
      "        (chomp1): Chomp1d()\n",
      "        (relu1): ReLU()\n",
      "        (dropout1): Dropout(p=0.5, inplace=False)\n",
      "        (conv2): Conv1d(4, 4, kernel_size=(2,), stride=(1,), padding=(4,), dilation=(4,))\n",
      "        (chomp2): Chomp1d()\n",
      "        (relu2): ReLU()\n",
      "        (dropout2): Dropout(p=0.5, inplace=False)\n",
      "        (net): Sequential(\n",
      "          (0): Conv1d(8, 4, kernel_size=(2,), stride=(1,), padding=(4,), dilation=(4,))\n",
      "          (1): Chomp1d()\n",
      "          (2): ReLU()\n",
      "          (3): Dropout(p=0.5, inplace=False)\n",
      "          (4): Conv1d(4, 4, kernel_size=(2,), stride=(1,), padding=(4,), dilation=(4,))\n",
      "          (5): Chomp1d()\n",
      "          (6): ReLU()\n",
      "          (7): Dropout(p=0.5, inplace=False)\n",
      "        )\n",
      "        (downsample): Conv1d(8, 4, kernel_size=(1,), stride=(1,))\n",
      "        (relu): ReLU()\n",
      "      )\n",
      "      (3): TemporalBlock(\n",
      "        (conv1): Conv1d(4, 2, kernel_size=(2,), stride=(1,), padding=(8,), dilation=(8,))\n",
      "        (chomp1): Chomp1d()\n",
      "        (relu1): ReLU()\n",
      "        (dropout1): Dropout(p=0.5, inplace=False)\n",
      "        (conv2): Conv1d(2, 2, kernel_size=(2,), stride=(1,), padding=(8,), dilation=(8,))\n",
      "        (chomp2): Chomp1d()\n",
      "        (relu2): ReLU()\n",
      "        (dropout2): Dropout(p=0.5, inplace=False)\n",
      "        (net): Sequential(\n",
      "          (0): Conv1d(4, 2, kernel_size=(2,), stride=(1,), padding=(8,), dilation=(8,))\n",
      "          (1): Chomp1d()\n",
      "          (2): ReLU()\n",
      "          (3): Dropout(p=0.5, inplace=False)\n",
      "          (4): Conv1d(2, 2, kernel_size=(2,), stride=(1,), padding=(8,), dilation=(8,))\n",
      "          (5): Chomp1d()\n",
      "          (6): ReLU()\n",
      "          (7): Dropout(p=0.5, inplace=False)\n",
      "        )\n",
      "        (downsample): Conv1d(4, 2, kernel_size=(1,), stride=(1,))\n",
      "        (relu): ReLU()\n",
      "      )\n",
      "    )\n",
      "  )\n",
      "  (fc1): Linear(in_features=106, out_features=128, bias=True)\n",
      "  (dropout1): Dropout(p=0.5, inplace=False)\n",
      "  (batch_norm1): BatchNorm1d(128, eps=1e-05, momentum=0.1, affine=True, track_running_stats=True)\n",
      "  (LeakyReLU1): LeakyReLU(negative_slope=0.01, inplace=True)\n",
      "  (fc2): Linear(in_features=128, out_features=128, bias=True)\n",
      "  (dropout2): Dropout(p=0.5, inplace=False)\n",
      "  (batch_norm2): BatchNorm1d(128, eps=1e-05, momentum=0.1, affine=True, track_running_stats=True)\n",
      "  (LeakyReLU2): LeakyReLU(negative_slope=0.01, inplace=True)\n",
      "  (fc3): Linear(in_features=128, out_features=4, bias=True)\n",
      ")\n"
     ]
    }
   ],
   "source": [
    "device = torch.device('cuda:0' if torch.cuda.is_available() else 'cpu')\n",
    "print('use devise:', device)\n",
    "\n",
    "net = TCN(input_size=window_size, output_size=4, num_channels=[16, 8, 4, 2], kernel_size=2, dropout=0.5)\n",
    "print(net)"
   ]
  },
  {
   "cell_type": "code",
   "execution_count": null,
   "metadata": {
    "colab": {
     "base_uri": "https://localhost:8080/"
    },
    "id": "DshErEAIVcyD",
    "outputId": "1b5fd249-18c9-404a-e757-0e878aadc43b"
   },
   "outputs": [
    {
     "data": {
      "text/plain": [
       "torch.Size([2048, 5, 30])"
      ]
     },
     "execution_count": 20,
     "metadata": {
      "tags": []
     },
     "output_type": "execute_result"
    }
   ],
   "source": [
    "inputs_ts.size()"
   ]
  },
  {
   "cell_type": "code",
   "execution_count": null,
   "metadata": {
    "id": "TSJ1a8G7VcyD"
   },
   "outputs": [],
   "source": [
    "# Check\n",
    "#o = net(inputs_ts, inputs_cs)\n",
    "#print(o.size())\n",
    "#print(train_ds[0][2].size())\n",
    "#o"
   ]
  },
  {
   "cell_type": "code",
   "execution_count": null,
   "metadata": {
    "id": "SsK1zfogVcyF"
   },
   "outputs": [],
   "source": [
    "#o.unsqueeze(1).size()"
   ]
  },
  {
   "cell_type": "markdown",
   "metadata": {
    "id": "SjlBM5XQVcyF"
   },
   "source": [
    "# Loss Function/Optim"
   ]
  },
  {
   "cell_type": "code",
   "execution_count": null,
   "metadata": {
    "id": "Wvo5cM29VcyF"
   },
   "outputs": [],
   "source": [
    "import torch.optim as optim\n",
    "\n",
    "criterion = nn.MSELoss()\n",
    "optimizer = optim.Adam(net.parameters(), lr=0.001)"
   ]
  },
  {
   "cell_type": "markdown",
   "metadata": {
    "id": "WPPN-crgVcyG"
   },
   "source": [
    "# Train"
   ]
  },
  {
   "cell_type": "code",
   "execution_count": null,
   "metadata": {
    "colab": {
     "base_uri": "https://localhost:8080/"
    },
    "id": "E8_T6i0KFMGW",
    "outputId": "d81fac52-71e6-44b4-87c7-273cfa78c965"
   },
   "outputs": [
    {
     "name": "stdout",
     "output_type": "stream",
     "text": [
      "cuda:0\n"
     ]
    },
    {
     "data": {
      "text/plain": [
       "<All keys matched successfully>"
      ]
     },
     "execution_count": 24,
     "metadata": {
      "tags": []
     },
     "output_type": "execute_result"
    }
   ],
   "source": [
    "# load model\n",
    "device = torch.device('cuda:0' if torch.cuda.is_available() else 'cpu')\n",
    "print(device)\n",
    "net.load_state_dict(torch.load('/content/drive/MyDrive/Colab Notebooks/JPX_Fundamental/models/DL/model.mdl'))"
   ]
  },
  {
   "cell_type": "code",
   "execution_count": null,
   "metadata": {
    "id": "vX9S1460VcyH"
   },
   "outputs": [],
   "source": [
    "from tqdm import tqdm\n",
    "\n",
    "def train_model(net, dataloader_dict, criterion, optimizer, num_epochs):\n",
    "    \n",
    "    device = torch.device('cuda:0' if torch.cuda.is_available() else 'cpu')\n",
    "    print('use devise:', device)\n",
    "    \n",
    "    net.to(device)\n",
    "    #torch.backends.cudnn.deterministic = True\n",
    "    \n",
    "    for epoch in range(num_epochs):\n",
    "        print('Epoch {}/{}'.format(epoch+1, num_epochs))\n",
    "        print('--------------------------')\n",
    "        \n",
    "        for phase in ['train', 'val']:\n",
    "\n",
    "            epoch_loss = 0.0\n",
    "        \n",
    "            for inputs_ts, inputs_cs, labels in tqdm(dataloader_dict[phase]):\n",
    "                \n",
    "                inputs_ts = inputs_ts.to(device)\n",
    "                inputs_cs = inputs_cs.to(device)\n",
    "                labels = labels.to(device)\n",
    "\n",
    "                # init optimizer:勾配パラメータを0にする\n",
    "                optimizer.zero_grad()\n",
    "                \n",
    "                with torch.set_grad_enabled(phase == 'train'):\n",
    "\n",
    "                    outputs = net(inputs_ts, inputs_cs)\n",
    "                    outputs = outputs.unsqueeze(1) #(N, 4) -> (N, 1, 4)\n",
    "                    loss = criterion(outputs, labels)\n",
    "\n",
    "                    if phase == 'train':\n",
    "                        loss.backward()\n",
    "                        optimizer.step()\n",
    "                    \n",
    "                    epoch_loss += loss.item() * inputs_ts.size(0)\n",
    "                \n",
    "            # print Score\n",
    "            print('{} Loss: {:.4f}'.format(phase, epoch_loss))\n",
    "            \n",
    "        # save model\n",
    "        if phase == 'val':\n",
    "            if epoch == 0:\n",
    "                best_val_loss = epoch_loss\n",
    "                save = True\n",
    "            elif best_val_loss > epoch_loss:\n",
    "                best_val_loss = epoch_loss\n",
    "                save = True\n",
    "            if save:\n",
    "                print('Best score updated. New model was saved.')\n",
    "                torch.save(net.state_dict(), '/content/drive/MyDrive/Colab Notebooks/JPX_Fundamental/models/DL/model.mdl' )\n",
    "                save = False"
   ]
  },
  {
   "cell_type": "code",
   "execution_count": null,
   "metadata": {
    "colab": {
     "base_uri": "https://localhost:8080/"
    },
    "id": "CDBoeH3RVcyQ",
    "outputId": "ef25e624-9134-4406-a7db-8992ba977619"
   },
   "outputs": [
    {
     "name": "stdout",
     "output_type": "stream",
     "text": [
      "use devise: cuda:0\n"
     ]
    },
    {
     "name": "stderr",
     "output_type": "stream",
     "text": [
      "\r",
      "  0%|          | 0/13 [00:00<?, ?it/s]"
     ]
    },
    {
     "name": "stdout",
     "output_type": "stream",
     "text": [
      "Epoch 1/200\n",
      "--------------------------\n"
     ]
    },
    {
     "name": "stderr",
     "output_type": "stream",
     "text": [
      "100%|██████████| 13/13 [11:09<00:00, 51.46s/it]\n",
      "  0%|          | 0/7 [00:00<?, ?it/s]"
     ]
    },
    {
     "name": "stdout",
     "output_type": "stream",
     "text": [
      "train Loss: 5847.4283\n"
     ]
    },
    {
     "name": "stderr",
     "output_type": "stream",
     "text": [
      "100%|██████████| 7/7 [05:40<00:00, 48.69s/it]\n"
     ]
    },
    {
     "name": "stdout",
     "output_type": "stream",
     "text": [
      "val Loss: 2435.9248\n",
      "Best score updated. New model was saved.\n"
     ]
    },
    {
     "name": "stderr",
     "output_type": "stream",
     "text": [
      "\r",
      "  0%|          | 0/13 [00:00<?, ?it/s]"
     ]
    },
    {
     "name": "stdout",
     "output_type": "stream",
     "text": [
      "Epoch 2/200\n",
      "--------------------------\n"
     ]
    },
    {
     "name": "stderr",
     "output_type": "stream",
     "text": [
      "100%|██████████| 13/13 [10:38<00:00, 49.15s/it]\n",
      "  0%|          | 0/7 [00:00<?, ?it/s]"
     ]
    },
    {
     "name": "stdout",
     "output_type": "stream",
     "text": [
      "train Loss: 5248.1852\n"
     ]
    },
    {
     "name": "stderr",
     "output_type": "stream",
     "text": [
      "100%|██████████| 7/7 [05:25<00:00, 46.45s/it]\n",
      "  0%|          | 0/13 [00:00<?, ?it/s]"
     ]
    },
    {
     "name": "stdout",
     "output_type": "stream",
     "text": [
      "val Loss: 1795.7885\n",
      "Best score updated. New model was saved.\n",
      "Epoch 3/200\n",
      "--------------------------\n"
     ]
    },
    {
     "name": "stderr",
     "output_type": "stream",
     "text": [
      "100%|██████████| 13/13 [10:45<00:00, 49.64s/it]\n",
      "  0%|          | 0/7 [00:00<?, ?it/s]"
     ]
    },
    {
     "name": "stdout",
     "output_type": "stream",
     "text": [
      "train Loss: 2847.0194\n"
     ]
    },
    {
     "name": "stderr",
     "output_type": "stream",
     "text": [
      "100%|██████████| 7/7 [05:42<00:00, 48.89s/it]\n",
      "  0%|          | 0/13 [00:00<?, ?it/s]"
     ]
    },
    {
     "name": "stdout",
     "output_type": "stream",
     "text": [
      "val Loss: 1245.1118\n",
      "Best score updated. New model was saved.\n",
      "Epoch 4/200\n",
      "--------------------------\n"
     ]
    },
    {
     "name": "stderr",
     "output_type": "stream",
     "text": [
      "100%|██████████| 13/13 [10:34<00:00, 48.82s/it]\n",
      "  0%|          | 0/7 [00:00<?, ?it/s]"
     ]
    },
    {
     "name": "stdout",
     "output_type": "stream",
     "text": [
      "train Loss: 2198.7819\n"
     ]
    },
    {
     "name": "stderr",
     "output_type": "stream",
     "text": [
      "100%|██████████| 7/7 [05:41<00:00, 48.72s/it]\n",
      "  0%|          | 0/13 [00:00<?, ?it/s]"
     ]
    },
    {
     "name": "stdout",
     "output_type": "stream",
     "text": [
      "val Loss: 1045.6619\n",
      "Best score updated. New model was saved.\n",
      "Epoch 5/200\n",
      "--------------------------\n"
     ]
    },
    {
     "name": "stderr",
     "output_type": "stream",
     "text": [
      "100%|██████████| 13/13 [10:27<00:00, 48.28s/it]\n",
      "  0%|          | 0/7 [00:00<?, ?it/s]"
     ]
    },
    {
     "name": "stdout",
     "output_type": "stream",
     "text": [
      "train Loss: 2338.6493\n"
     ]
    },
    {
     "name": "stderr",
     "output_type": "stream",
     "text": [
      "100%|██████████| 7/7 [05:27<00:00, 46.79s/it]\n",
      "  0%|          | 0/13 [00:00<?, ?it/s]"
     ]
    },
    {
     "name": "stdout",
     "output_type": "stream",
     "text": [
      "val Loss: 981.8779\n",
      "Best score updated. New model was saved.\n",
      "Epoch 6/200\n",
      "--------------------------\n"
     ]
    },
    {
     "name": "stderr",
     "output_type": "stream",
     "text": [
      "100%|██████████| 13/13 [10:29<00:00, 48.42s/it]\n",
      "  0%|          | 0/7 [00:00<?, ?it/s]"
     ]
    },
    {
     "name": "stdout",
     "output_type": "stream",
     "text": [
      "train Loss: 1612.4798\n"
     ]
    },
    {
     "name": "stderr",
     "output_type": "stream",
     "text": [
      "100%|██████████| 7/7 [05:27<00:00, 46.74s/it]\n",
      "  0%|          | 0/13 [00:00<?, ?it/s]"
     ]
    },
    {
     "name": "stdout",
     "output_type": "stream",
     "text": [
      "val Loss: 647.1356\n",
      "Best score updated. New model was saved.\n",
      "Epoch 7/200\n",
      "--------------------------\n"
     ]
    },
    {
     "name": "stderr",
     "output_type": "stream",
     "text": [
      "100%|██████████| 13/13 [10:42<00:00, 49.39s/it]\n",
      "  0%|          | 0/7 [00:00<?, ?it/s]"
     ]
    },
    {
     "name": "stdout",
     "output_type": "stream",
     "text": [
      "train Loss: 1558.4314\n"
     ]
    },
    {
     "name": "stderr",
     "output_type": "stream",
     "text": [
      "100%|██████████| 7/7 [05:33<00:00, 47.65s/it]\n",
      "  0%|          | 0/13 [00:00<?, ?it/s]"
     ]
    },
    {
     "name": "stdout",
     "output_type": "stream",
     "text": [
      "val Loss: 580.1979\n",
      "Best score updated. New model was saved.\n",
      "Epoch 8/200\n",
      "--------------------------\n"
     ]
    },
    {
     "name": "stderr",
     "output_type": "stream",
     "text": [
      "100%|██████████| 13/13 [10:55<00:00, 50.44s/it]\n",
      "  0%|          | 0/7 [00:00<?, ?it/s]"
     ]
    },
    {
     "name": "stdout",
     "output_type": "stream",
     "text": [
      "train Loss: 1123.2405\n"
     ]
    },
    {
     "name": "stderr",
     "output_type": "stream",
     "text": [
      "100%|██████████| 7/7 [05:31<00:00, 47.30s/it]\n",
      "  0%|          | 0/13 [00:00<?, ?it/s]"
     ]
    },
    {
     "name": "stdout",
     "output_type": "stream",
     "text": [
      "val Loss: 481.8833\n",
      "Best score updated. New model was saved.\n",
      "Epoch 9/200\n",
      "--------------------------\n"
     ]
    },
    {
     "name": "stderr",
     "output_type": "stream",
     "text": [
      "100%|██████████| 13/13 [10:37<00:00, 49.05s/it]\n",
      "  0%|          | 0/7 [00:00<?, ?it/s]"
     ]
    },
    {
     "name": "stdout",
     "output_type": "stream",
     "text": [
      "train Loss: 1021.5909\n"
     ]
    },
    {
     "name": "stderr",
     "output_type": "stream",
     "text": [
      "100%|██████████| 7/7 [05:35<00:00, 47.91s/it]\n",
      "  0%|          | 0/13 [00:00<?, ?it/s]"
     ]
    },
    {
     "name": "stdout",
     "output_type": "stream",
     "text": [
      "val Loss: 468.7101\n",
      "Best score updated. New model was saved.\n",
      "Epoch 10/200\n",
      "--------------------------\n"
     ]
    },
    {
     "name": "stderr",
     "output_type": "stream",
     "text": [
      "100%|██████████| 13/13 [10:38<00:00, 49.08s/it]\n",
      "  0%|          | 0/7 [00:00<?, ?it/s]"
     ]
    },
    {
     "name": "stdout",
     "output_type": "stream",
     "text": [
      "train Loss: 940.1527\n"
     ]
    },
    {
     "name": "stderr",
     "output_type": "stream",
     "text": [
      "100%|██████████| 7/7 [05:23<00:00, 46.23s/it]\n",
      "  0%|          | 0/13 [00:00<?, ?it/s]"
     ]
    },
    {
     "name": "stdout",
     "output_type": "stream",
     "text": [
      "val Loss: 413.3545\n",
      "Best score updated. New model was saved.\n",
      "Epoch 11/200\n",
      "--------------------------\n"
     ]
    },
    {
     "name": "stderr",
     "output_type": "stream",
     "text": [
      "100%|██████████| 13/13 [10:25<00:00, 48.10s/it]\n",
      "  0%|          | 0/7 [00:00<?, ?it/s]"
     ]
    },
    {
     "name": "stdout",
     "output_type": "stream",
     "text": [
      "train Loss: 848.8259\n"
     ]
    },
    {
     "name": "stderr",
     "output_type": "stream",
     "text": [
      "100%|██████████| 7/7 [05:21<00:00, 45.93s/it]\n",
      "  0%|          | 0/13 [00:00<?, ?it/s]"
     ]
    },
    {
     "name": "stdout",
     "output_type": "stream",
     "text": [
      "val Loss: 345.1088\n",
      "Best score updated. New model was saved.\n",
      "Epoch 12/200\n",
      "--------------------------\n"
     ]
    },
    {
     "name": "stderr",
     "output_type": "stream",
     "text": [
      "100%|██████████| 13/13 [10:23<00:00, 47.96s/it]\n",
      "  0%|          | 0/7 [00:00<?, ?it/s]"
     ]
    },
    {
     "name": "stdout",
     "output_type": "stream",
     "text": [
      "train Loss: 799.3490\n"
     ]
    },
    {
     "name": "stderr",
     "output_type": "stream",
     "text": [
      " 86%|████████▌ | 6/7 [04:48<00:48, 48.11s/it]"
     ]
    }
   ],
   "source": [
    "num_epochs = 200\n",
    "train_model(net, dataloaders_dict, criterion, optimizer, num_epochs)"
   ]
  },
  {
   "cell_type": "code",
   "execution_count": null,
   "metadata": {
    "colab": {
     "base_uri": "https://localhost:8080/"
    },
    "id": "Cuf5K_AbimVE",
    "outputId": "5c1635fa-3e33-4bc0-b4ea-6af7525b77c8"
   },
   "outputs": [
    {
     "name": "stderr",
     "output_type": "stream",
     "text": [
      "\r",
      "  0%|          | 0/13 [00:00<?, ?it/s]"
     ]
    },
    {
     "name": "stdout",
     "output_type": "stream",
     "text": [
      "use devise: cuda:0\n",
      "Epoch 1/200\n",
      "--------------------------\n"
     ]
    },
    {
     "name": "stderr",
     "output_type": "stream",
     "text": [
      "100%|██████████| 13/13 [10:31<00:00, 48.57s/it]\n",
      "  0%|          | 0/7 [00:00<?, ?it/s]"
     ]
    },
    {
     "name": "stdout",
     "output_type": "stream",
     "text": [
      "train Loss: 745.4716\n"
     ]
    },
    {
     "name": "stderr",
     "output_type": "stream",
     "text": [
      "100%|██████████| 7/7 [05:27<00:00, 46.80s/it]\n",
      "  0%|          | 0/13 [00:00<?, ?it/s]"
     ]
    },
    {
     "name": "stdout",
     "output_type": "stream",
     "text": [
      "val Loss: 250.6325\n",
      "Best score updated. New model was saved.\n",
      "Epoch 2/200\n",
      "--------------------------\n"
     ]
    },
    {
     "name": "stderr",
     "output_type": "stream",
     "text": [
      "100%|██████████| 13/13 [10:28<00:00, 48.38s/it]\n",
      "  0%|          | 0/7 [00:00<?, ?it/s]"
     ]
    },
    {
     "name": "stdout",
     "output_type": "stream",
     "text": [
      "train Loss: 604.9085\n"
     ]
    },
    {
     "name": "stderr",
     "output_type": "stream",
     "text": [
      "100%|██████████| 7/7 [05:21<00:00, 45.96s/it]\n",
      "  0%|          | 0/13 [00:00<?, ?it/s]"
     ]
    },
    {
     "name": "stdout",
     "output_type": "stream",
     "text": [
      "val Loss: 228.1501\n",
      "Best score updated. New model was saved.\n",
      "Epoch 3/200\n",
      "--------------------------\n"
     ]
    },
    {
     "name": "stderr",
     "output_type": "stream",
     "text": [
      "100%|██████████| 13/13 [10:24<00:00, 48.07s/it]\n",
      "  0%|          | 0/7 [00:00<?, ?it/s]"
     ]
    },
    {
     "name": "stdout",
     "output_type": "stream",
     "text": [
      "train Loss: 541.5050\n"
     ]
    },
    {
     "name": "stderr",
     "output_type": "stream",
     "text": [
      "100%|██████████| 7/7 [05:28<00:00, 46.93s/it]\n",
      "  0%|          | 0/13 [00:00<?, ?it/s]"
     ]
    },
    {
     "name": "stdout",
     "output_type": "stream",
     "text": [
      "val Loss: 203.5473\n",
      "Best score updated. New model was saved.\n",
      "Epoch 4/200\n",
      "--------------------------\n"
     ]
    },
    {
     "name": "stderr",
     "output_type": "stream",
     "text": [
      "100%|██████████| 13/13 [10:35<00:00, 48.87s/it]\n",
      "  0%|          | 0/7 [00:00<?, ?it/s]"
     ]
    },
    {
     "name": "stdout",
     "output_type": "stream",
     "text": [
      "train Loss: 521.6898\n"
     ]
    },
    {
     "name": "stderr",
     "output_type": "stream",
     "text": [
      "100%|██████████| 7/7 [05:25<00:00, 46.50s/it]\n",
      "  0%|          | 0/13 [00:00<?, ?it/s]"
     ]
    },
    {
     "name": "stdout",
     "output_type": "stream",
     "text": [
      "val Loss: 194.2241\n",
      "Best score updated. New model was saved.\n",
      "Epoch 5/200\n",
      "--------------------------\n"
     ]
    },
    {
     "name": "stderr",
     "output_type": "stream",
     "text": [
      "100%|██████████| 13/13 [10:29<00:00, 48.41s/it]\n",
      "  0%|          | 0/7 [00:00<?, ?it/s]"
     ]
    },
    {
     "name": "stdout",
     "output_type": "stream",
     "text": [
      "train Loss: 511.8207\n"
     ]
    },
    {
     "name": "stderr",
     "output_type": "stream",
     "text": [
      "100%|██████████| 7/7 [05:22<00:00, 46.11s/it]\n",
      "  0%|          | 0/13 [00:00<?, ?it/s]"
     ]
    },
    {
     "name": "stdout",
     "output_type": "stream",
     "text": [
      "val Loss: 188.8297\n",
      "Best score updated. New model was saved.\n",
      "Epoch 6/200\n",
      "--------------------------\n"
     ]
    },
    {
     "name": "stderr",
     "output_type": "stream",
     "text": [
      "100%|██████████| 13/13 [10:32<00:00, 48.64s/it]\n",
      "  0%|          | 0/7 [00:00<?, ?it/s]"
     ]
    },
    {
     "name": "stdout",
     "output_type": "stream",
     "text": [
      "train Loss: 498.5476\n"
     ]
    },
    {
     "name": "stderr",
     "output_type": "stream",
     "text": [
      "100%|██████████| 7/7 [05:21<00:00, 45.92s/it]\n",
      "  0%|          | 0/13 [00:00<?, ?it/s]"
     ]
    },
    {
     "name": "stdout",
     "output_type": "stream",
     "text": [
      "val Loss: 183.6263\n",
      "Best score updated. New model was saved.\n",
      "Epoch 7/200\n",
      "--------------------------\n"
     ]
    },
    {
     "name": "stderr",
     "output_type": "stream",
     "text": [
      "100%|██████████| 13/13 [10:23<00:00, 47.98s/it]\n",
      "  0%|          | 0/7 [00:00<?, ?it/s]"
     ]
    },
    {
     "name": "stdout",
     "output_type": "stream",
     "text": [
      "train Loss: 491.6173\n"
     ]
    },
    {
     "name": "stderr",
     "output_type": "stream",
     "text": [
      "100%|██████████| 7/7 [05:20<00:00, 45.84s/it]\n",
      "  0%|          | 0/13 [00:00<?, ?it/s]"
     ]
    },
    {
     "name": "stdout",
     "output_type": "stream",
     "text": [
      "val Loss: 183.1045\n",
      "Best score updated. New model was saved.\n",
      "Epoch 8/200\n",
      "--------------------------\n"
     ]
    },
    {
     "name": "stderr",
     "output_type": "stream",
     "text": [
      "100%|██████████| 13/13 [10:31<00:00, 48.58s/it]\n",
      "  0%|          | 0/7 [00:00<?, ?it/s]"
     ]
    },
    {
     "name": "stdout",
     "output_type": "stream",
     "text": [
      "train Loss: 484.9583\n"
     ]
    },
    {
     "name": "stderr",
     "output_type": "stream",
     "text": [
      "100%|██████████| 7/7 [05:23<00:00, 46.28s/it]\n",
      "  0%|          | 0/13 [00:00<?, ?it/s]"
     ]
    },
    {
     "name": "stdout",
     "output_type": "stream",
     "text": [
      "val Loss: 179.1238\n",
      "Best score updated. New model was saved.\n",
      "Epoch 9/200\n",
      "--------------------------\n"
     ]
    },
    {
     "name": "stderr",
     "output_type": "stream",
     "text": [
      "100%|██████████| 13/13 [10:30<00:00, 48.51s/it]\n",
      "  0%|          | 0/7 [00:00<?, ?it/s]"
     ]
    },
    {
     "name": "stdout",
     "output_type": "stream",
     "text": [
      "train Loss: 482.1937\n"
     ]
    },
    {
     "name": "stderr",
     "output_type": "stream",
     "text": [
      "100%|██████████| 7/7 [05:27<00:00, 46.76s/it]\n",
      "  0%|          | 0/13 [00:00<?, ?it/s]"
     ]
    },
    {
     "name": "stdout",
     "output_type": "stream",
     "text": [
      "val Loss: 174.6551\n",
      "Best score updated. New model was saved.\n",
      "Epoch 10/200\n",
      "--------------------------\n"
     ]
    },
    {
     "name": "stderr",
     "output_type": "stream",
     "text": [
      "100%|██████████| 13/13 [10:23<00:00, 47.96s/it]\n",
      "  0%|          | 0/7 [00:00<?, ?it/s]"
     ]
    },
    {
     "name": "stdout",
     "output_type": "stream",
     "text": [
      "train Loss: 479.7753\n"
     ]
    },
    {
     "name": "stderr",
     "output_type": "stream",
     "text": [
      "100%|██████████| 7/7 [05:22<00:00, 46.09s/it]\n",
      "  0%|          | 0/13 [00:00<?, ?it/s]"
     ]
    },
    {
     "name": "stdout",
     "output_type": "stream",
     "text": [
      "val Loss: 177.1960\n",
      "Epoch 11/200\n",
      "--------------------------\n"
     ]
    },
    {
     "name": "stderr",
     "output_type": "stream",
     "text": [
      "100%|██████████| 13/13 [10:24<00:00, 48.01s/it]\n",
      "  0%|          | 0/7 [00:00<?, ?it/s]"
     ]
    },
    {
     "name": "stdout",
     "output_type": "stream",
     "text": [
      "train Loss: 477.2973\n"
     ]
    },
    {
     "name": "stderr",
     "output_type": "stream",
     "text": [
      "100%|██████████| 7/7 [05:21<00:00, 45.89s/it]\n",
      "  0%|          | 0/13 [00:00<?, ?it/s]"
     ]
    },
    {
     "name": "stdout",
     "output_type": "stream",
     "text": [
      "val Loss: 174.3488\n",
      "Best score updated. New model was saved.\n",
      "Epoch 12/200\n",
      "--------------------------\n"
     ]
    },
    {
     "name": "stderr",
     "output_type": "stream",
     "text": [
      "100%|██████████| 13/13 [10:22<00:00, 47.92s/it]\n",
      "  0%|          | 0/7 [00:00<?, ?it/s]"
     ]
    },
    {
     "name": "stdout",
     "output_type": "stream",
     "text": [
      "train Loss: 475.7930\n"
     ]
    },
    {
     "name": "stderr",
     "output_type": "stream",
     "text": [
      "100%|██████████| 7/7 [05:21<00:00, 45.99s/it]\n",
      "  0%|          | 0/13 [00:00<?, ?it/s]"
     ]
    },
    {
     "name": "stdout",
     "output_type": "stream",
     "text": [
      "val Loss: 176.1239\n",
      "Epoch 13/200\n",
      "--------------------------\n"
     ]
    },
    {
     "name": "stderr",
     "output_type": "stream",
     "text": [
      "100%|██████████| 13/13 [10:21<00:00, 47.78s/it]\n",
      "  0%|          | 0/7 [00:00<?, ?it/s]"
     ]
    },
    {
     "name": "stdout",
     "output_type": "stream",
     "text": [
      "train Loss: 474.1574\n"
     ]
    },
    {
     "name": "stderr",
     "output_type": "stream",
     "text": [
      "100%|██████████| 7/7 [05:19<00:00, 45.67s/it]\n",
      "  0%|          | 0/13 [00:00<?, ?it/s]"
     ]
    },
    {
     "name": "stdout",
     "output_type": "stream",
     "text": [
      "val Loss: 173.9870\n",
      "Best score updated. New model was saved.\n",
      "Epoch 14/200\n",
      "--------------------------\n"
     ]
    },
    {
     "name": "stderr",
     "output_type": "stream",
     "text": [
      " 85%|████████▍ | 11/13 [08:49<01:36, 48.16s/it]"
     ]
    }
   ],
   "source": [
    "num_epochs = 200\n",
    "train_model(net, dataloaders_dict, criterion, optimizer, num_epochs)"
   ]
  },
  {
   "cell_type": "code",
   "execution_count": null,
   "metadata": {
    "colab": {
     "base_uri": "https://localhost:8080/"
    },
    "id": "3l4BRM6IHI4X",
    "outputId": "905f32dc-e490-4507-b0ac-ab9ae77e4fc5"
   },
   "outputs": [
    {
     "name": "stderr",
     "output_type": "stream",
     "text": [
      "\r",
      "  0%|          | 0/13 [00:00<?, ?it/s]"
     ]
    },
    {
     "name": "stdout",
     "output_type": "stream",
     "text": [
      "cuda:0\n",
      "use devise: cuda:0\n",
      "Epoch 1/200\n",
      "--------------------------\n"
     ]
    },
    {
     "name": "stderr",
     "output_type": "stream",
     "text": [
      "100%|██████████| 13/13 [10:41<00:00, 49.33s/it]\n",
      "  0%|          | 0/7 [00:00<?, ?it/s]"
     ]
    },
    {
     "name": "stdout",
     "output_type": "stream",
     "text": [
      "train Loss: 474.1308\n"
     ]
    },
    {
     "name": "stderr",
     "output_type": "stream",
     "text": [
      "100%|██████████| 7/7 [05:31<00:00, 47.37s/it]\n",
      "  0%|          | 0/13 [00:00<?, ?it/s]"
     ]
    },
    {
     "name": "stdout",
     "output_type": "stream",
     "text": [
      "val Loss: 173.3524\n",
      "Best score updated. New model was saved.\n",
      "Epoch 2/200\n",
      "--------------------------\n"
     ]
    },
    {
     "name": "stderr",
     "output_type": "stream",
     "text": [
      "100%|██████████| 13/13 [10:45<00:00, 49.64s/it]\n",
      "  0%|          | 0/7 [00:00<?, ?it/s]"
     ]
    },
    {
     "name": "stdout",
     "output_type": "stream",
     "text": [
      "train Loss: 471.2940\n"
     ]
    },
    {
     "name": "stderr",
     "output_type": "stream",
     "text": [
      "100%|██████████| 7/7 [05:27<00:00, 46.84s/it]\n",
      "  0%|          | 0/13 [00:00<?, ?it/s]"
     ]
    },
    {
     "name": "stdout",
     "output_type": "stream",
     "text": [
      "val Loss: 177.5702\n",
      "Epoch 3/200\n",
      "--------------------------\n"
     ]
    },
    {
     "name": "stderr",
     "output_type": "stream",
     "text": [
      "100%|██████████| 13/13 [10:33<00:00, 48.77s/it]\n",
      "  0%|          | 0/7 [00:00<?, ?it/s]"
     ]
    },
    {
     "name": "stdout",
     "output_type": "stream",
     "text": [
      "train Loss: 470.0135\n"
     ]
    },
    {
     "name": "stderr",
     "output_type": "stream",
     "text": [
      "100%|██████████| 7/7 [05:26<00:00, 46.63s/it]\n",
      "  0%|          | 0/13 [00:00<?, ?it/s]"
     ]
    },
    {
     "name": "stdout",
     "output_type": "stream",
     "text": [
      "val Loss: 172.9770\n",
      "Best score updated. New model was saved.\n",
      "Epoch 4/200\n",
      "--------------------------\n"
     ]
    },
    {
     "name": "stderr",
     "output_type": "stream",
     "text": [
      "100%|██████████| 13/13 [10:32<00:00, 48.66s/it]\n",
      "  0%|          | 0/7 [00:00<?, ?it/s]"
     ]
    },
    {
     "name": "stdout",
     "output_type": "stream",
     "text": [
      "train Loss: 468.0246\n"
     ]
    },
    {
     "name": "stderr",
     "output_type": "stream",
     "text": [
      "100%|██████████| 7/7 [05:25<00:00, 46.52s/it]\n",
      "  0%|          | 0/13 [00:00<?, ?it/s]"
     ]
    },
    {
     "name": "stdout",
     "output_type": "stream",
     "text": [
      "val Loss: 172.2068\n",
      "Best score updated. New model was saved.\n",
      "Epoch 5/200\n",
      "--------------------------\n"
     ]
    },
    {
     "name": "stderr",
     "output_type": "stream",
     "text": [
      " 62%|██████▏   | 8/13 [06:31<04:04, 48.99s/it]"
     ]
    }
   ],
   "source": [
    "# load model\n",
    "device = torch.device('cuda:0' if torch.cuda.is_available() else 'cpu')\n",
    "print(device)\n",
    "net.load_state_dict(torch.load('/content/drive/MyDrive/Colab Notebooks/JPX_Fundamental/models/DL/model.mdl'))\n",
    "\n",
    "num_epochs = 200\n",
    "train_model(net, dataloaders_dict, criterion, optimizer, num_epochs)"
   ]
  },
  {
   "cell_type": "code",
   "execution_count": null,
   "metadata": {
    "colab": {
     "base_uri": "https://localhost:8080/"
    },
    "id": "Z808be3lK2Zl",
    "outputId": "ccc75a65-3d78-468c-a35d-636e55df8594"
   },
   "outputs": [
    {
     "name": "stderr",
     "output_type": "stream",
     "text": [
      "\r",
      "  0%|          | 0/13 [00:00<?, ?it/s]"
     ]
    },
    {
     "name": "stdout",
     "output_type": "stream",
     "text": [
      "cuda:0\n",
      "use devise: cuda:0\n",
      "Epoch 1/200\n",
      "--------------------------\n"
     ]
    },
    {
     "name": "stderr",
     "output_type": "stream",
     "text": [
      "100%|██████████| 13/13 [10:47<00:00, 49.83s/it]\n",
      "  0%|          | 0/7 [00:00<?, ?it/s]"
     ]
    },
    {
     "name": "stdout",
     "output_type": "stream",
     "text": [
      "train Loss: 458.1860\n"
     ]
    },
    {
     "name": "stderr",
     "output_type": "stream",
     "text": [
      "100%|██████████| 7/7 [05:35<00:00, 47.96s/it]\n",
      "  0%|          | 0/13 [00:00<?, ?it/s]"
     ]
    },
    {
     "name": "stdout",
     "output_type": "stream",
     "text": [
      "val Loss: 173.7324\n",
      "Best score updated. New model was saved.\n",
      "Epoch 2/200\n",
      "--------------------------\n"
     ]
    },
    {
     "name": "stderr",
     "output_type": "stream",
     "text": [
      "100%|██████████| 13/13 [10:48<00:00, 49.92s/it]\n",
      "  0%|          | 0/7 [00:00<?, ?it/s]"
     ]
    },
    {
     "name": "stdout",
     "output_type": "stream",
     "text": [
      "train Loss: 459.5759\n"
     ]
    },
    {
     "name": "stderr",
     "output_type": "stream",
     "text": [
      "100%|██████████| 7/7 [05:32<00:00, 47.54s/it]\n",
      "  0%|          | 0/13 [00:00<?, ?it/s]"
     ]
    },
    {
     "name": "stdout",
     "output_type": "stream",
     "text": [
      "val Loss: 175.9581\n",
      "Epoch 3/200\n",
      "--------------------------\n"
     ]
    },
    {
     "name": "stderr",
     "output_type": "stream",
     "text": [
      "100%|██████████| 13/13 [10:47<00:00, 49.79s/it]\n",
      "  0%|          | 0/7 [00:00<?, ?it/s]"
     ]
    },
    {
     "name": "stdout",
     "output_type": "stream",
     "text": [
      "train Loss: 464.9211\n"
     ]
    },
    {
     "name": "stderr",
     "output_type": "stream",
     "text": [
      "100%|██████████| 7/7 [05:37<00:00, 48.29s/it]\n",
      "  0%|          | 0/13 [00:00<?, ?it/s]"
     ]
    },
    {
     "name": "stdout",
     "output_type": "stream",
     "text": [
      "val Loss: 172.6227\n",
      "Best score updated. New model was saved.\n",
      "Epoch 4/200\n",
      "--------------------------\n"
     ]
    },
    {
     "name": "stderr",
     "output_type": "stream",
     "text": [
      "100%|██████████| 13/13 [10:53<00:00, 50.29s/it]\n",
      "  0%|          | 0/7 [00:00<?, ?it/s]"
     ]
    },
    {
     "name": "stdout",
     "output_type": "stream",
     "text": [
      "train Loss: 463.7594\n"
     ]
    },
    {
     "name": "stderr",
     "output_type": "stream",
     "text": [
      "100%|██████████| 7/7 [05:34<00:00, 47.84s/it]\n",
      "  0%|          | 0/13 [00:00<?, ?it/s]"
     ]
    },
    {
     "name": "stdout",
     "output_type": "stream",
     "text": [
      "val Loss: 174.3533\n",
      "Epoch 5/200\n",
      "--------------------------\n"
     ]
    },
    {
     "name": "stderr",
     "output_type": "stream",
     "text": [
      "100%|██████████| 13/13 [11:00<00:00, 50.79s/it]\n",
      "  0%|          | 0/7 [00:00<?, ?it/s]"
     ]
    },
    {
     "name": "stdout",
     "output_type": "stream",
     "text": [
      "train Loss: 462.9327\n"
     ]
    },
    {
     "name": "stderr",
     "output_type": "stream",
     "text": [
      "100%|██████████| 7/7 [05:34<00:00, 47.74s/it]\n",
      "  0%|          | 0/13 [00:00<?, ?it/s]"
     ]
    },
    {
     "name": "stdout",
     "output_type": "stream",
     "text": [
      "val Loss: 172.1671\n",
      "Best score updated. New model was saved.\n",
      "Epoch 6/200\n",
      "--------------------------\n"
     ]
    },
    {
     "name": "stderr",
     "output_type": "stream",
     "text": [
      "100%|██████████| 13/13 [10:57<00:00, 50.59s/it]\n",
      "  0%|          | 0/7 [00:00<?, ?it/s]"
     ]
    },
    {
     "name": "stdout",
     "output_type": "stream",
     "text": [
      "train Loss: 466.0701\n"
     ]
    },
    {
     "name": "stderr",
     "output_type": "stream",
     "text": [
      "100%|██████████| 7/7 [05:34<00:00, 47.84s/it]\n",
      "  0%|          | 0/13 [00:00<?, ?it/s]"
     ]
    },
    {
     "name": "stdout",
     "output_type": "stream",
     "text": [
      "val Loss: 170.0709\n",
      "Best score updated. New model was saved.\n",
      "Epoch 7/200\n",
      "--------------------------\n"
     ]
    },
    {
     "name": "stderr",
     "output_type": "stream",
     "text": [
      "100%|██████████| 13/13 [10:48<00:00, 49.89s/it]\n",
      "  0%|          | 0/7 [00:00<?, ?it/s]"
     ]
    },
    {
     "name": "stdout",
     "output_type": "stream",
     "text": [
      "train Loss: 466.0994\n"
     ]
    },
    {
     "name": "stderr",
     "output_type": "stream",
     "text": [
      "100%|██████████| 7/7 [05:35<00:00, 47.88s/it]\n",
      "  0%|          | 0/13 [00:00<?, ?it/s]"
     ]
    },
    {
     "name": "stdout",
     "output_type": "stream",
     "text": [
      "val Loss: 168.8211\n",
      "Best score updated. New model was saved.\n",
      "Epoch 8/200\n",
      "--------------------------\n"
     ]
    },
    {
     "name": "stderr",
     "output_type": "stream",
     "text": [
      "100%|██████████| 13/13 [10:47<00:00, 49.80s/it]\n",
      "  0%|          | 0/7 [00:00<?, ?it/s]"
     ]
    },
    {
     "name": "stdout",
     "output_type": "stream",
     "text": [
      "train Loss: 466.8240\n"
     ]
    },
    {
     "name": "stderr",
     "output_type": "stream",
     "text": [
      "100%|██████████| 7/7 [05:33<00:00, 47.62s/it]\n",
      "  0%|          | 0/13 [00:00<?, ?it/s]"
     ]
    },
    {
     "name": "stdout",
     "output_type": "stream",
     "text": [
      "val Loss: 171.7592\n",
      "Epoch 9/200\n",
      "--------------------------\n"
     ]
    },
    {
     "name": "stderr",
     "output_type": "stream",
     "text": [
      "100%|██████████| 13/13 [10:46<00:00, 49.77s/it]\n",
      "  0%|          | 0/7 [00:00<?, ?it/s]"
     ]
    },
    {
     "name": "stdout",
     "output_type": "stream",
     "text": [
      "train Loss: 464.8916\n"
     ]
    },
    {
     "name": "stderr",
     "output_type": "stream",
     "text": [
      "100%|██████████| 7/7 [05:33<00:00, 47.60s/it]\n",
      "  0%|          | 0/13 [00:00<?, ?it/s]"
     ]
    },
    {
     "name": "stdout",
     "output_type": "stream",
     "text": [
      "val Loss: 171.3610\n",
      "Epoch 10/200\n",
      "--------------------------\n"
     ]
    },
    {
     "name": "stderr",
     "output_type": "stream",
     "text": [
      "100%|██████████| 13/13 [10:46<00:00, 49.73s/it]\n",
      "  0%|          | 0/7 [00:00<?, ?it/s]"
     ]
    },
    {
     "name": "stdout",
     "output_type": "stream",
     "text": [
      "train Loss: 464.6795\n"
     ]
    },
    {
     "name": "stderr",
     "output_type": "stream",
     "text": [
      "100%|██████████| 7/7 [05:33<00:00, 47.61s/it]\n",
      "  0%|          | 0/13 [00:00<?, ?it/s]"
     ]
    },
    {
     "name": "stdout",
     "output_type": "stream",
     "text": [
      "val Loss: 170.1019\n",
      "Epoch 11/200\n",
      "--------------------------\n"
     ]
    },
    {
     "name": "stderr",
     "output_type": "stream",
     "text": [
      "100%|██████████| 13/13 [10:48<00:00, 49.86s/it]\n",
      "  0%|          | 0/7 [00:00<?, ?it/s]"
     ]
    },
    {
     "name": "stdout",
     "output_type": "stream",
     "text": [
      "train Loss: 462.9696\n"
     ]
    },
    {
     "name": "stderr",
     "output_type": "stream",
     "text": [
      "100%|██████████| 7/7 [05:35<00:00, 47.88s/it]\n",
      "  0%|          | 0/13 [00:00<?, ?it/s]"
     ]
    },
    {
     "name": "stdout",
     "output_type": "stream",
     "text": [
      "val Loss: 169.2062\n",
      "Epoch 12/200\n",
      "--------------------------\n"
     ]
    },
    {
     "name": "stderr",
     "output_type": "stream",
     "text": [
      "100%|██████████| 13/13 [10:52<00:00, 50.18s/it]\n",
      "  0%|          | 0/7 [00:00<?, ?it/s]"
     ]
    },
    {
     "name": "stdout",
     "output_type": "stream",
     "text": [
      "train Loss: 465.5974\n"
     ]
    },
    {
     "name": "stderr",
     "output_type": "stream",
     "text": [
      "100%|██████████| 7/7 [05:49<00:00, 49.88s/it]\n",
      "  0%|          | 0/13 [00:00<?, ?it/s]"
     ]
    },
    {
     "name": "stdout",
     "output_type": "stream",
     "text": [
      "val Loss: 169.3625\n",
      "Epoch 13/200\n",
      "--------------------------\n"
     ]
    },
    {
     "name": "stderr",
     "output_type": "stream",
     "text": [
      "100%|██████████| 13/13 [10:53<00:00, 50.24s/it]\n",
      "  0%|          | 0/7 [00:00<?, ?it/s]"
     ]
    },
    {
     "name": "stdout",
     "output_type": "stream",
     "text": [
      "train Loss: 464.8858\n"
     ]
    },
    {
     "name": "stderr",
     "output_type": "stream",
     "text": [
      "100%|██████████| 7/7 [05:45<00:00, 49.32s/it]\n",
      "  0%|          | 0/13 [00:00<?, ?it/s]"
     ]
    },
    {
     "name": "stdout",
     "output_type": "stream",
     "text": [
      "val Loss: 171.2009\n",
      "Epoch 14/200\n",
      "--------------------------\n"
     ]
    },
    {
     "name": "stderr",
     "output_type": "stream",
     "text": [
      "100%|██████████| 13/13 [10:50<00:00, 50.01s/it]\n",
      "  0%|          | 0/7 [00:00<?, ?it/s]"
     ]
    },
    {
     "name": "stdout",
     "output_type": "stream",
     "text": [
      "train Loss: 464.7185\n"
     ]
    },
    {
     "name": "stderr",
     "output_type": "stream",
     "text": [
      "100%|██████████| 7/7 [05:32<00:00, 47.50s/it]\n",
      "  0%|          | 0/13 [00:00<?, ?it/s]"
     ]
    },
    {
     "name": "stdout",
     "output_type": "stream",
     "text": [
      "val Loss: 168.7657\n",
      "Best score updated. New model was saved.\n",
      "Epoch 15/200\n",
      "--------------------------\n"
     ]
    },
    {
     "name": "stderr",
     "output_type": "stream",
     "text": [
      "100%|██████████| 13/13 [10:45<00:00, 49.68s/it]\n",
      "  0%|          | 0/7 [00:00<?, ?it/s]"
     ]
    },
    {
     "name": "stdout",
     "output_type": "stream",
     "text": [
      "train Loss: 465.5570\n"
     ]
    },
    {
     "name": "stderr",
     "output_type": "stream",
     "text": [
      "\r",
      " 14%|█▍        | 1/7 [00:49<04:56, 49.45s/it]"
     ]
    }
   ],
   "source": [
    "# load model\n",
    "device = torch.device('cuda:0' if torch.cuda.is_available() else 'cpu')\n",
    "print(device)\n",
    "net.load_state_dict(torch.load('/content/drive/MyDrive/Colab Notebooks/JPX_Fundamental/models/DL/model.mdl'))\n",
    "\n",
    "num_epochs = 200\n",
    "train_model(net, dataloaders_dict, criterion, optimizer, num_epochs)"
   ]
  },
  {
   "cell_type": "code",
   "execution_count": null,
   "metadata": {
    "id": "aOhrs403kQiT"
   },
   "outputs": [],
   "source": []
  }
 ],
 "metadata": {
  "accelerator": "GPU",
  "colab": {
   "collapsed_sections": [],
   "name": "DeepLearningModel_Train.ipynb",
   "provenance": []
  },
  "kernelspec": {
   "display_name": "Python 3",
   "language": "python",
   "name": "python3"
  },
  "language_info": {
   "codemirror_mode": {
    "name": "ipython",
    "version": 3
   },
   "file_extension": ".py",
   "mimetype": "text/x-python",
   "name": "python",
   "nbconvert_exporter": "python",
   "pygments_lexer": "ipython3",
   "version": "3.8.5"
  }
 },
 "nbformat": 4,
 "nbformat_minor": 1
}
